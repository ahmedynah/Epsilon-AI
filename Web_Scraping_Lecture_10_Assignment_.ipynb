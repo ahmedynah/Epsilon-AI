{
  "nbformat": 4,
  "nbformat_minor": 0,
  "metadata": {
    "colab": {
      "name": "Web Scraping Lecture 10 Assignment .ipynb",
      "provenance": [],
      "authorship_tag": "ABX9TyNM7MwzPmzz3e/5lGzXwAlu",
      "include_colab_link": true
    },
    "kernelspec": {
      "name": "python3",
      "display_name": "Python 3"
    },
    "language_info": {
      "name": "python"
    }
  },
  "cells": [
    {
      "cell_type": "markdown",
      "metadata": {
        "id": "view-in-github",
        "colab_type": "text"
      },
      "source": [
        "<a href=\"https://colab.research.google.com/github/ahmedynah/Epsilon-AI/blob/main/Web_Scraping_Lecture_10_Assignment_.ipynb\" target=\"_parent\"><img src=\"https://colab.research.google.com/assets/colab-badge.svg\" alt=\"Open In Colab\"/></a>"
      ]
    },
    {
      "cell_type": "markdown",
      "metadata": {
        "id": "EcJuTMzxa3aA"
      },
      "source": [
        "##Task 1\n",
        "---------\n",
        "#####Scrap the USD To EGP Exchange rate from this website\n",
        "#####https://www.exchangerates.org.uk/Dollars-to-Egyptian-Pounds-currency-conversion-page.html\n",
        "#####and then use it to make a software that takes amount of USD Dollars from the user and calculate how much will it cost in EGP."
      ]
    },
    {
      "cell_type": "code",
      "metadata": {
        "id": "fYNaJgmIbdEb"
      },
      "source": [
        "import requests\n",
        "import csv\n",
        "from bs4 import BeautifulSoup\n",
        "import time"
      ],
      "execution_count": 1,
      "outputs": []
    },
    {
      "cell_type": "code",
      "metadata": {
        "colab": {
          "base_uri": "https://localhost:8080/"
        },
        "id": "O5fnAoXQaq2e",
        "outputId": "d5dc579f-dea9-43f6-8e14-d72771cd7680"
      },
      "source": [
        "amount = float(input(\"amount in USD: \"))\n",
        "url = 'https://www.exchangerates.org.uk/Dollars-to-Egyptian-Pounds-currency-conversion-page.html'\n",
        "res = requests.get(url)\n",
        "soap = BeautifulSoup(res.text, 'html.parser')"
      ],
      "execution_count": null,
      "outputs": [
        {
          "name": "stdout",
          "output_type": "stream",
          "text": [
            "amount in USD: 5\n"
          ]
        }
      ]
    },
    {
      "cell_type": "code",
      "metadata": {
        "colab": {
          "base_uri": "https://localhost:8080/"
        },
        "id": "XCn-ugtycs1q",
        "outputId": "8d9f6321-9ec6-4536-8713-0c2e9931a946"
      },
      "source": [
        "rate = float(soap.find('', attrs = {'id':\"shd2b;\"}).get_text())\n",
        "print(f\"{amount} USD = {amount * rate} EGP\")"
      ],
      "execution_count": null,
      "outputs": [
        {
          "output_type": "stream",
          "name": "stdout",
          "text": [
            "5.0 USD = 78.5005 EGP\n"
          ]
        }
      ]
    },
    {
      "cell_type": "markdown",
      "metadata": {
        "id": "msDn7-KcdP1G"
      },
      "source": [
        "Tassk 2\n",
        "---------\n",
        "#####Scrap the weather temperature, humidity, visibility, air pressure, wind speed, datetime data from this website\n",
        "#####https://eg.freemeteo.com/weather/cairo/current-weather/location/?gid=360630&language=english&country=egypt\n",
        "#####for 10 times one read in a minute (so basicly the process takes 10 minutes)and put them into a CSV file"
      ]
    },
    {
      "cell_type": "code",
      "metadata": {
        "id": "hl69JYVxc4pL"
      },
      "source": [
        "def get_weather(url):\n",
        "  \n",
        "  res = requests.get(url)\n",
        "  \n",
        "  soap = BeautifulSoup(res.text, 'html.parser')\n",
        "  temp = soap.find('div', attrs={\"class\": \"temp\"}).get_text()\n",
        "  stats = soap.find('div', attrs={\"class\": \"stats\"}).get_text().replace(\"Rel. \",\"\")\n",
        "  \n",
        "  stats = stats.replace('Few Clouds at 760m',\"\")\n",
        "  stats = stats.replace(\" |\",\"\").splitlines()\n",
        "  \n",
        "  stats_headers, stats_values = [header.strip()for header in stats[0::2]], [value.strip() for value in stats[1::2]]\n",
        "  \n",
        "  stats_headers.insert(0,\"temp\")\n",
        "  stats_values.insert(0,temp)\n",
        "\n",
        "  return stats_headers, stats_values"
      ],
      "execution_count": null,
      "outputs": []
    },
    {
      "cell_type": "code",
      "metadata": {
        "id": "pYKxRZf1eNGE"
      },
      "source": [
        "def repeate_every_x_min_for_10_times(x):\n",
        "    with open(\"weather.csv\", \"w\") as f:\n",
        "      url = 'https://eg.freemeteo.com/weather/cairo/current-weather/location/?gid=360630&language=english&country=egypt'\n",
        "      headers, values = get_weather(url)\n",
        "      writer = csv.writer(f)\n",
        "      writer.writerow(headers)\n",
        "      for _ in range(10):\n",
        "         url = 'https://eg.freemeteo.com/weather/cairo/current-weather/location/?gid=360630&language=english&country=egypt'\n",
        "         headers, values = get_weather(url)\n",
        "         writer.writerow(values)\n",
        "    time.sleep(x * 60)"
      ],
      "execution_count": null,
      "outputs": []
    },
    {
      "cell_type": "code",
      "metadata": {
        "id": "td7GO8gakBXa"
      },
      "source": [
        "repeate_every_x_min_for_10_times(1)"
      ],
      "execution_count": null,
      "outputs": []
    },
    {
      "cell_type": "markdown",
      "metadata": {
        "id": "S0a2Yl-MwRQG"
      },
      "source": [
        "#Task 3\n",
        "---------\n",
        "#####Scrap the books (name, price, rate) for each category and put them into a CSV file\n",
        "#####https://books.toscrape.com/"
      ]
    },
    {
      "cell_type": "code",
      "metadata": {
        "id": "ZYsU1SotweSf"
      },
      "source": [
        "url = 'https://books.toscrape.com/catalogue/category/books_1/index.html'"
      ],
      "execution_count": 32,
      "outputs": []
    },
    {
      "cell_type": "code",
      "metadata": {
        "id": "DnIiWsPcEa-Z"
      },
      "source": [
        "res = requests.get(url)"
      ],
      "execution_count": 33,
      "outputs": []
    },
    {
      "cell_type": "code",
      "metadata": {
        "id": "s7Ld1ql9DTDr",
        "colab": {
          "base_uri": "https://localhost:8080/"
        },
        "outputId": "97ba8b78-0bed-493c-eeb9-4872009f8da4"
      },
      "source": [
        "soap = BeautifulSoup(res.text, 'html.parser')\n",
        "index = soap.find('a', attrs={'href':'index.html'})\n",
        "cat_trav = index.find_next_sibling('ul')\n",
        "cat_trav2 = cat_trav.findAll('a')\n",
        "categories = [e.get_text(strip = True) for e in cat_trav2]\n",
        "print(categories)\n",
        "links_of_each_cat = cat_trav.findAll('li')\n",
        "links_of_each_cat = [link.find('a').get('href').replace(\"..\",'https://books.toscrape.com/catalogue/category')\n",
        "for link in links_of_each_cat]\n",
        "\n"
      ],
      "execution_count": 34,
      "outputs": [
        {
          "output_type": "stream",
          "name": "stdout",
          "text": [
            "['Travel', 'Mystery', 'Historical Fiction', 'Sequential Art', 'Classics', 'Philosophy', 'Romance', 'Womens Fiction', 'Fiction', 'Childrens', 'Religion', 'Nonfiction', 'Music', 'Default', 'Science Fiction', 'Sports and Games', 'Add a comment', 'Fantasy', 'New Adult', 'Young Adult', 'Science', 'Poetry', 'Paranormal', 'Art', 'Psychology', 'Autobiography', 'Parenting', 'Adult Fiction', 'Humor', 'Horror', 'History', 'Food and Drink', 'Christian Fiction', 'Business', 'Biography', 'Thriller', 'Contemporary', 'Spirituality', 'Academic', 'Self Help', 'Historical', 'Christian', 'Suspense', 'Short Stories', 'Novels', 'Health', 'Politics', 'Cultural', 'Erotica', 'Crime']\n"
          ]
        }
      ]
    },
    {
      "cell_type": "code",
      "metadata": {
        "id": "bQ5UB353MGHw"
      },
      "source": [
        "def write_in_csv():\n",
        "  with open(\"books.csv\", \"w\") as f:\n",
        "    writer = csv.writer(f)\n",
        "    writer.writerow(['Name', 'Rate', \"Price\", \"Link\", \"Category\"])\n",
        "    i = 0\n",
        "    for cat_link in links_of_each_cat:\n",
        "      books = traverse_pages(cat_link)\n",
        "      for book in books:\n",
        "        book.append(categories[i])\n",
        "        writer.writerow(book)\n",
        "      i += 1"
      ],
      "execution_count": 36,
      "outputs": []
    },
    {
      "cell_type": "code",
      "metadata": {
        "id": "SdHdkh2qDinz"
      },
      "source": [
        "def get_books_info(link):\n",
        "  res = requests.get(link)\n",
        "  soap = BeautifulSoup(res.text,\"html.parser\")\n",
        "  books = soap.findAll('article', attrs={'class':'product_pod'})\n",
        "  books_info = [\n",
        "     [book.find('h3').find('a').get('title')\n",
        "     ,book.find('p').get('class')[1] + \" stars\"\n",
        "     ,book.find('p',attrs={'class':'price_color'}).get_text().replace(\"Â\",\"\")\n",
        "     ,book.find('h3').find('a').get('href').replace(\"../../..\",\"https://books.toscrape.com/catalogue\")]\n",
        "  for book in books\n",
        "  ]\n",
        "  return books_info"
      ],
      "execution_count": 35,
      "outputs": []
    },
    {
      "cell_type": "code",
      "metadata": {
        "id": "9H66gEG0ROP8"
      },
      "source": [
        "def are_there_multiple_pages(link):\n",
        "  res = requests.get(link)\n",
        "  soap = BeautifulSoup(res.text,'html.parser')\n",
        "  multiple_pages = soap.find('ul',attrs={'class':'pager'})\n",
        "  if multiple_pages != None:\n",
        "    if(multiple_pages.findAll('li')[0].get_text().strip()==\"previous\"):\n",
        "      number_of_pages = multiple_pages.findAll('li')[1].get_text()\n",
        "      number_of_pages = number_of_pages.strip().split()[-1]\n",
        "    else:\n",
        "      number_of_pages = multiple_pages.findAll('li')[0].get_text()\n",
        "      number_of_pages = number_of_pages.strip().split()[-1]\n",
        "    return True, int(number_of_pages), multiple_pages\n",
        "  else:\n",
        "    return False, 0, 0"
      ],
      "execution_count": 162,
      "outputs": []
    },
    {
      "cell_type": "code",
      "metadata": {
        "id": "C-kBcm2NRrob"
      },
      "source": [
        "def get_next_page(link, pager, i):\n",
        "  next_page = pager.find('li', attrs={'class':'next'}).find('a').get('href')\n",
        "  if(link.find(\"index.html\") == -1):\n",
        "    link = link.replace(f\"page-{i}.html\",next_page)\n",
        "    # print(f\"{i} = in1 and next page = {next_page} and link = {link}\")\n",
        "  else:\n",
        "    link = link.replace(\"index.html\",next_page)\n",
        "    # print(f\"{i} = in2 and next page = {next_page} and link = {link}\")\n",
        "  return link"
      ],
      "execution_count": 163,
      "outputs": []
    },
    {
      "cell_type": "code",
      "metadata": {
        "id": "yKJiQn-RLD6I"
      },
      "source": [
        "def traverse_pages(link):\n",
        "  \n",
        "  all_books = []\n",
        "  check, no_pages, pager = are_there_multiple_pages(link)\n",
        "  if check:    \n",
        "    for i in range(no_pages):\n",
        "      _, _, pager = are_there_multiple_pages(link)\n",
        "      # print(link, \"\\n\", i+1,\" \", no_pages, \" \",pager)\n",
        "      all_books.extend(get_books_info(link))\n",
        "      if(i+1 != no_pages):\n",
        "        link = get_next_page(link, pager, i+1)\n",
        "      # res = requests.get(link)\n",
        "  else:\n",
        "    all_books.extend(get_books_info(link))\n",
        "  # print(all_books)\n",
        "  return all_books"
      ],
      "execution_count": 168,
      "outputs": []
    },
    {
      "cell_type": "code",
      "metadata": {
        "id": "VfIyXzMCJxe2",
        "colab": {
          "base_uri": "https://localhost:8080/"
        },
        "outputId": "0a37cd29-ead7-4483-fe97-7cb0094f0f06"
      },
      "source": [
        "traverse_pages(links_of_each_cat[3])"
      ],
      "execution_count": 169,
      "outputs": [
        {
          "output_type": "execute_result",
          "data": {
            "text/plain": [
              "[[\"Scott Pilgrim's Precious Little Life (Scott Pilgrim #1)\",\n",
              "  'Five stars',\n",
              "  '£52.29',\n",
              "  'https://books.toscrape.com/catalogue/scott-pilgrims-precious-little-life-scott-pilgrim-1_987/index.html'],\n",
              " ['Tsubasa: WoRLD CHRoNiCLE 2 (Tsubasa WoRLD CHRoNiCLE #2)',\n",
              "  'One stars',\n",
              "  '£16.28',\n",
              "  'https://books.toscrape.com/catalogue/tsubasa-world-chronicle-2-tsubasa-world-chronicle-2_949/index.html'],\n",
              " ['This One Summer',\n",
              "  'Four stars',\n",
              "  '£19.49',\n",
              "  'https://books.toscrape.com/catalogue/this-one-summer_947/index.html'],\n",
              " ['The Nameless City (The Nameless City #1)',\n",
              "  'Four stars',\n",
              "  '£38.16',\n",
              "  'https://books.toscrape.com/catalogue/the-nameless-city-the-nameless-city-1_940/index.html'],\n",
              " ['Saga, Volume 5 (Saga (Collected Editions) #5)',\n",
              "  'Two stars',\n",
              "  '£51.04',\n",
              "  'https://books.toscrape.com/catalogue/saga-volume-5-saga-collected-editions-5_923/index.html'],\n",
              " ['Rat Queens, Vol. 3: Demons (Rat Queens (Collected Editions) #11-15)',\n",
              "  'Three stars',\n",
              "  '£50.40',\n",
              "  'https://books.toscrape.com/catalogue/rat-queens-vol-3-demons-rat-queens-collected-editions-11-15_921/index.html'],\n",
              " ['Princess Jellyfish 2-in-1 Omnibus, Vol. 01 (Princess Jellyfish 2-in-1 Omnibus #1)',\n",
              "  'Five stars',\n",
              "  '£13.61',\n",
              "  'https://books.toscrape.com/catalogue/princess-jellyfish-2-in-1-omnibus-vol-01-princess-jellyfish-2-in-1-omnibus-1_920/index.html'],\n",
              " ['Pop Gun War, Volume 1: Gift',\n",
              "  'One stars',\n",
              "  '£18.97',\n",
              "  'https://books.toscrape.com/catalogue/pop-gun-war-volume-1-gift_918/index.html'],\n",
              " ['Patience',\n",
              "  'Three stars',\n",
              "  '£10.16',\n",
              "  'https://books.toscrape.com/catalogue/patience_916/index.html'],\n",
              " ['Outcast, Vol. 1: A Darkness Surrounds Him (Outcast #1)',\n",
              "  'Four stars',\n",
              "  '£15.44',\n",
              "  'https://books.toscrape.com/catalogue/outcast-vol-1-a-darkness-surrounds-him-outcast-1_915/index.html'],\n",
              " ['orange: The Complete Collection 1 (orange: The Complete Collection #1)',\n",
              "  'One stars',\n",
              "  '£48.41',\n",
              "  'https://books.toscrape.com/catalogue/orange-the-complete-collection-1-orange-the-complete-collection-1_914/index.html'],\n",
              " ['Lumberjanes, Vol. 2: Friendship to the Max (Lumberjanes #5-8)',\n",
              "  'Two stars',\n",
              "  '£46.91',\n",
              "  'https://books.toscrape.com/catalogue/lumberjanes-vol-2-friendship-to-the-max-lumberjanes-5-8_907/index.html'],\n",
              " ['Lumberjanes, Vol. 1: Beware the Kitten Holy (Lumberjanes #1-4)',\n",
              "  'Three stars',\n",
              "  '£45.61',\n",
              "  'https://books.toscrape.com/catalogue/lumberjanes-vol-1-beware-the-kitten-holy-lumberjanes-1-4_906/index.html'],\n",
              " ['Lumberjanes Vol. 3: A Terrible Plan (Lumberjanes #9-12)',\n",
              "  'Two stars',\n",
              "  '£19.92',\n",
              "  'https://books.toscrape.com/catalogue/lumberjanes-vol-3-a-terrible-plan-lumberjanes-9-12_905/index.html'],\n",
              " ['I Hate Fairyland, Vol. 1: Madly Ever After (I Hate Fairyland (Compilations) #1-5)',\n",
              "  'Two stars',\n",
              "  '£29.17',\n",
              "  'https://books.toscrape.com/catalogue/i-hate-fairyland-vol-1-madly-ever-after-i-hate-fairyland-compilations-1-5_899/index.html'],\n",
              " ['I am a Hero Omnibus Volume 1',\n",
              "  'Three stars',\n",
              "  '£54.63',\n",
              "  'https://books.toscrape.com/catalogue/i-am-a-hero-omnibus-volume-1_898/index.html'],\n",
              " ['Giant Days, Vol. 2 (Giant Days #5-8)',\n",
              "  'Two stars',\n",
              "  '£22.11',\n",
              "  'https://books.toscrape.com/catalogue/giant-days-vol-2-giant-days-5-8_895/index.html'],\n",
              " ['Danganronpa Volume 1',\n",
              "  'Four stars',\n",
              "  '£51.99',\n",
              "  'https://books.toscrape.com/catalogue/danganronpa-volume-1_889/index.html'],\n",
              " ['Codename Baboushka, Volume 1: The Conclave of Death',\n",
              "  'Four stars',\n",
              "  '£36.72',\n",
              "  'https://books.toscrape.com/catalogue/codename-baboushka-volume-1-the-conclave-of-death_887/index.html'],\n",
              " ['Camp Midnight',\n",
              "  'Four stars',\n",
              "  '£17.08',\n",
              "  'https://books.toscrape.com/catalogue/camp-midnight_886/index.html'],\n",
              " ['Bitch Planet, Vol. 1: Extraordinary Machine (Bitch Planet (Collected Editions))',\n",
              "  'Two stars',\n",
              "  '£37.92',\n",
              "  'https://books.toscrape.com/catalogue/bitch-planet-vol-1-extraordinary-machine-bitch-planet-collected-editions_882/index.html'],\n",
              " ['The Shadow Hero (The Shadow Hero)',\n",
              "  'One stars',\n",
              "  '£33.14',\n",
              "  'https://books.toscrape.com/catalogue/the-shadow-hero-the-shadow-hero_860/index.html'],\n",
              " ['Fables, Vol. 1: Legends in Exile (Fables #1)',\n",
              "  'Four stars',\n",
              "  '£41.62',\n",
              "  'https://books.toscrape.com/catalogue/fables-vol-1-legends-in-exile-fables-1_806/index.html'],\n",
              " ['Batman: The Long Halloween (Batman)',\n",
              "  'Two stars',\n",
              "  '£36.50',\n",
              "  'https://books.toscrape.com/catalogue/batman-the-long-halloween-batman_793/index.html'],\n",
              " ['Batman: The Dark Knight Returns (Batman)',\n",
              "  'Five stars',\n",
              "  '£15.38',\n",
              "  'https://books.toscrape.com/catalogue/batman-the-dark-knight-returns-batman_792/index.html'],\n",
              " ['Wonder Woman: Earth One, Volume One (Wonder Woman: Earth One #1)',\n",
              "  'Four stars',\n",
              "  '£37.34',\n",
              "  'https://books.toscrape.com/catalogue/wonder-woman-earth-one-volume-one-wonder-woman-earth-one-1_783/index.html'],\n",
              " ['We Are Robin, Vol. 1: The Vigilante Business (We Are Robin #1)',\n",
              "  'One stars',\n",
              "  '£53.90',\n",
              "  'https://books.toscrape.com/catalogue/we-are-robin-vol-1-the-vigilante-business-we-are-robin-1_778/index.html'],\n",
              " ['Through the Woods',\n",
              "  'Two stars',\n",
              "  '£25.38',\n",
              "  'https://books.toscrape.com/catalogue/through-the-woods_772/index.html'],\n",
              " ['Superman Vol. 1: Before Truth (Superman by Gene Luen Yang #1)',\n",
              "  'Five stars',\n",
              "  '£11.89',\n",
              "  'https://books.toscrape.com/catalogue/superman-vol-1-before-truth-superman-by-gene-luen-yang-1_739/index.html'],\n",
              " ['So Cute It Hurts!!, Vol. 6 (So Cute It Hurts!! #6)',\n",
              "  'Four stars',\n",
              "  '£35.43',\n",
              "  'https://books.toscrape.com/catalogue/so-cute-it-hurts-vol-6-so-cute-it-hurts-6_734/index.html'],\n",
              " ['Robin War',\n",
              "  'Three stars',\n",
              "  '£47.82',\n",
              "  'https://books.toscrape.com/catalogue/robin-war_730/index.html'],\n",
              " ['Red Hood/Arsenal, Vol. 1: Open for Business (Red Hood/Arsenal #1)',\n",
              "  'Two stars',\n",
              "  '£25.48',\n",
              "  'https://books.toscrape.com/catalogue/red-hoodarsenal-vol-1-open-for-business-red-hoodarsenal-1_729/index.html'],\n",
              " ['Naruto (3-in-1 Edition), Vol. 14: Includes Vols. 40, 41 & 42 (Naruto: Omnibus #14)',\n",
              "  'Two stars',\n",
              "  '£38.39',\n",
              "  'https://books.toscrape.com/catalogue/naruto-3-in-1-edition-vol-14-includes-vols-40-41-42-naruto-omnibus-14_721/index.html'],\n",
              " ['Lowriders to the Center of the Earth (Lowriders in Space #2)',\n",
              "  'Two stars',\n",
              "  '£51.51',\n",
              "  'https://books.toscrape.com/catalogue/lowriders-to-the-center-of-the-earth-lowriders-in-space-2_712/index.html'],\n",
              " ['El Deafo',\n",
              "  'Five stars',\n",
              "  '£57.62',\n",
              "  'https://books.toscrape.com/catalogue/el-deafo_691/index.html'],\n",
              " ['Batman: Europa',\n",
              "  'Two stars',\n",
              "  '£32.01',\n",
              "  'https://books.toscrape.com/catalogue/batman-europa_668/index.html'],\n",
              " ['Art Ops Vol. 1',\n",
              "  'Three stars',\n",
              "  '£48.80',\n",
              "  'https://books.toscrape.com/catalogue/art-ops-vol-1_664/index.html'],\n",
              " ['Adulthood Is a Myth: A \"Sarah\\'s Scribbles\" Collection',\n",
              "  'Two stars',\n",
              "  '£10.90',\n",
              "  'https://books.toscrape.com/catalogue/adulthood-is-a-myth-a-sarahs-scribbles-collection_659/index.html'],\n",
              " ['Fruits Basket, Vol. 9 (Fruits Basket #9)',\n",
              "  'Four stars',\n",
              "  '£33.95',\n",
              "  'https://books.toscrape.com/catalogue/fruits-basket-vol-9-fruits-basket-9_563/index.html'],\n",
              " ['Roller Girl',\n",
              "  'Five stars',\n",
              "  '£14.10',\n",
              "  'https://books.toscrape.com/catalogue/roller-girl_540/index.html'],\n",
              " ['Fruits Basket, Vol. 7 (Fruits Basket #7)',\n",
              "  'One stars',\n",
              "  '£19.57',\n",
              "  'https://books.toscrape.com/catalogue/fruits-basket-vol-7-fruits-basket-7_468/index.html'],\n",
              " ['Fruits Basket, Vol. 6 (Fruits Basket #6)',\n",
              "  'Four stars',\n",
              "  '£20.96',\n",
              "  'https://books.toscrape.com/catalogue/fruits-basket-vol-6-fruits-basket-6_427/index.html'],\n",
              " ['Death Note, Vol. 6: Give-and-Take (Death Note #6)',\n",
              "  'Three stars',\n",
              "  '£36.39',\n",
              "  'https://books.toscrape.com/catalogue/death-note-vol-6-give-and-take-death-note-6_425/index.html'],\n",
              " ['Fruits Basket, Vol. 5 (Fruits Basket #5)',\n",
              "  'One stars',\n",
              "  '£16.33',\n",
              "  'https://books.toscrape.com/catalogue/fruits-basket-vol-5-fruits-basket-5_376/index.html'],\n",
              " ['Death Note, Vol. 5: Whiteout (Death Note #5)',\n",
              "  'One stars',\n",
              "  '£52.41',\n",
              "  'https://books.toscrape.com/catalogue/death-note-vol-5-whiteout-death-note-5_368/index.html'],\n",
              " ['The Demon Prince of Momochi House, Vol. 4 (The Demon Prince of Momochi House #4)',\n",
              "  'Two stars',\n",
              "  '£27.88',\n",
              "  'https://books.toscrape.com/catalogue/the-demon-prince-of-momochi-house-vol-4-the-demon-prince-of-momochi-house-4_344/index.html'],\n",
              " ['Fruits Basket, Vol. 4 (Fruits Basket #4)',\n",
              "  'Four stars',\n",
              "  '£50.44',\n",
              "  'https://books.toscrape.com/catalogue/fruits-basket-vol-4-fruits-basket-4_321/index.html'],\n",
              " ['The Wicked + The Divine, Vol. 3: Commercial Suicide (The Wicked + The Divine)',\n",
              "  'Three stars',\n",
              "  '£14.41',\n",
              "  'https://books.toscrape.com/catalogue/the-wicked-the-divine-vol-3-commercial-suicide-the-wicked-the-divine_287/index.html'],\n",
              " ['The Sandman, Vol. 3: Dream Country (The Sandman (volumes) #3)',\n",
              "  'Five stars',\n",
              "  '£55.55',\n",
              "  'https://books.toscrape.com/catalogue/the-sandman-vol-3-dream-country-the-sandman-volumes-3_279/index.html'],\n",
              " ['Saga, Volume 3 (Saga (Collected Editions) #3)',\n",
              "  'Five stars',\n",
              "  '£21.57',\n",
              "  'https://books.toscrape.com/catalogue/saga-volume-3-saga-collected-editions-3_216/index.html'],\n",
              " ['Prodigy: The Graphic Novel (Legend: The Graphic Novel #2)',\n",
              "  'Three stars',\n",
              "  '£43.63',\n",
              "  'https://books.toscrape.com/catalogue/prodigy-the-graphic-novel-legend-the-graphic-novel-2_207/index.html'],\n",
              " ['Persepolis: The Story of a Childhood (Persepolis #1-2)',\n",
              "  'One stars',\n",
              "  '£39.13',\n",
              "  'https://books.toscrape.com/catalogue/persepolis-the-story-of-a-childhood-persepolis-1-2_206/index.html'],\n",
              " ['Original Fake',\n",
              "  'Three stars',\n",
              "  '£31.45',\n",
              "  'https://books.toscrape.com/catalogue/original-fake_203/index.html'],\n",
              " ['Grayson, Vol 3: Nemesis (Grayson #3)',\n",
              "  'One stars',\n",
              "  '£42.72',\n",
              "  'https://books.toscrape.com/catalogue/grayson-vol-3-nemesis-grayson-3_164/index.html'],\n",
              " ['Fruits Basket, Vol. 3 (Fruits Basket #3)',\n",
              "  'Two stars',\n",
              "  '£45.17',\n",
              "  'https://books.toscrape.com/catalogue/fruits-basket-vol-3-fruits-basket-3_159/index.html'],\n",
              " ['Black Butler, Vol. 1 (Black Butler #1)',\n",
              "  'One stars',\n",
              "  '£49.31',\n",
              "  'https://books.toscrape.com/catalogue/black-butler-vol-1-black-butler-1_130/index.html'],\n",
              " ['Awkward',\n",
              "  'Two stars',\n",
              "  '£38.02',\n",
              "  'https://books.toscrape.com/catalogue/awkward_124/index.html'],\n",
              " [\"The Sandman, Vol. 2: The Doll's House (The Sandman (volumes) #2)\",\n",
              "  'One stars',\n",
              "  '£54.81',\n",
              "  'https://books.toscrape.com/catalogue/the-sandman-vol-2-the-dolls-house-the-sandman-volumes-2_110/index.html'],\n",
              " ['Saga, Volume 2 (Saga (Collected Editions) #2)',\n",
              "  'Three stars',\n",
              "  '£11.75',\n",
              "  'https://books.toscrape.com/catalogue/saga-volume-2-saga-collected-editions-2_107/index.html'],\n",
              " ['Fruits Basket, Vol. 2 (Fruits Basket #2)',\n",
              "  'Five stars',\n",
              "  '£11.64',\n",
              "  'https://books.toscrape.com/catalogue/fruits-basket-vol-2-fruits-basket-2_100/index.html'],\n",
              " ['Y: The Last Man, Vol. 1: Unmanned (Y: The Last Man #1)',\n",
              "  'Four stars',\n",
              "  '£18.51',\n",
              "  'https://books.toscrape.com/catalogue/y-the-last-man-vol-1-unmanned-y-the-last-man-1_98/index.html'],\n",
              " ['The Wicked + The Divine, Vol. 1: The Faust Act (The Wicked + The Divine)',\n",
              "  'Two stars',\n",
              "  '£36.52',\n",
              "  'https://books.toscrape.com/catalogue/the-wicked-the-divine-vol-1-the-faust-act-the-wicked-the-divine_86/index.html'],\n",
              " ['The Sandman, Vol. 1: Preludes and Nocturnes (The Sandman (volumes) #1)',\n",
              "  'Three stars',\n",
              "  '£54.12',\n",
              "  'https://books.toscrape.com/catalogue/the-sandman-vol-1-preludes-and-nocturnes-the-sandman-volumes-1_79/index.html'],\n",
              " ['The Complete Maus (Maus #1-2)',\n",
              "  'Three stars',\n",
              "  '£10.64',\n",
              "  'https://books.toscrape.com/catalogue/the-complete-maus-maus-1-2_62/index.html'],\n",
              " ['Skip Beat!, Vol. 01 (Skip Beat! #1)',\n",
              "  'Three stars',\n",
              "  '£42.12',\n",
              "  'https://books.toscrape.com/catalogue/skip-beat-vol-01-skip-beat-1_55/index.html'],\n",
              " ['Saga, Volume 1 (Saga (Collected Editions) #1)',\n",
              "  'One stars',\n",
              "  '£28.48',\n",
              "  'https://books.toscrape.com/catalogue/saga-volume-1-saga-collected-editions-1_48/index.html'],\n",
              " ['Rat Queens, Vol. 1: Sass & Sorcery (Rat Queens (Collected Editions) #1-5)',\n",
              "  'Five stars',\n",
              "  '£46.96',\n",
              "  'https://books.toscrape.com/catalogue/rat-queens-vol-1-sass-sorcery-rat-queens-collected-editions-1-5_46/index.html'],\n",
              " ['Paper Girls, Vol. 1 (Paper Girls #1-5)',\n",
              "  'Four stars',\n",
              "  '£21.71',\n",
              "  'https://books.toscrape.com/catalogue/paper-girls-vol-1-paper-girls-1-5_44/index.html'],\n",
              " ['Ouran High School Host Club, Vol. 1 (Ouran High School Host Club #1)',\n",
              "  'Three stars',\n",
              "  '£29.87',\n",
              "  'https://books.toscrape.com/catalogue/ouran-high-school-host-club-vol-1-ouran-high-school-host-club-1_43/index.html'],\n",
              " ['Ms. Marvel, Vol. 1: No Normal (Ms. Marvel (2014-2015) #1)',\n",
              "  'Four stars',\n",
              "  '£39.39',\n",
              "  'https://books.toscrape.com/catalogue/ms-marvel-vol-1-no-normal-ms-marvel-2014-2015-1_34/index.html'],\n",
              " ['Hawkeye, Vol. 1: My Life as a Weapon (Hawkeye #1)',\n",
              "  'Three stars',\n",
              "  '£45.24',\n",
              "  'https://books.toscrape.com/catalogue/hawkeye-vol-1-my-life-as-a-weapon-hawkeye-1_24/index.html'],\n",
              " ['Giant Days, Vol. 1 (Giant Days #1-4)',\n",
              "  'Four stars',\n",
              "  '£56.76',\n",
              "  'https://books.toscrape.com/catalogue/giant-days-vol-1-giant-days-1-4_22/index.html'],\n",
              " ['Fruits Basket, Vol. 1 (Fruits Basket #1)',\n",
              "  'Five stars',\n",
              "  '£40.28',\n",
              "  'https://books.toscrape.com/catalogue/fruits-basket-vol-1-fruits-basket-1_21/index.html'],\n",
              " ['Bleach, Vol. 1: Strawberry and the Soul Reapers (Bleach #1)',\n",
              "  'Five stars',\n",
              "  '£34.65',\n",
              "  'https://books.toscrape.com/catalogue/bleach-vol-1-strawberry-and-the-soul-reapers-bleach-1_7/index.html'],\n",
              " ['Ajin: Demi-Human, Volume 1 (Ajin: Demi-Human #1)',\n",
              "  'Four stars',\n",
              "  '£57.06',\n",
              "  'https://books.toscrape.com/catalogue/ajin-demi-human-volume-1-ajin-demi-human-1_4/index.html']]"
            ]
          },
          "metadata": {},
          "execution_count": 169
        }
      ]
    },
    {
      "cell_type": "code",
      "metadata": {
        "id": "PUULBDWFJ1lX"
      },
      "source": [
        "write_in_csv()"
      ],
      "execution_count": 170,
      "outputs": []
    },
    {
      "cell_type": "code",
      "metadata": {
        "id": "gExYaSRSq28P"
      },
      "source": [
        ""
      ],
      "execution_count": 41,
      "outputs": []
    }
  ]
}