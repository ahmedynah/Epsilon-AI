{
  "nbformat": 4,
  "nbformat_minor": 0,
  "metadata": {
    "kernelspec": {
      "display_name": "Python 3",
      "language": "python",
      "name": "python3"
    },
    "language_info": {
      "codemirror_mode": {
        "name": "ipython",
        "version": 3
      },
      "file_extension": ".py",
      "mimetype": "text/x-python",
      "name": "python",
      "nbconvert_exporter": "python",
      "pygments_lexer": "ipython3",
      "version": "3.8.5"
    },
    "colab": {
      "name": "02-Quiz Area of Rectangle.ipynb",
      "provenance": [],
      "include_colab_link": true
    }
  },
  "cells": [
    {
      "cell_type": "markdown",
      "metadata": {
        "id": "view-in-github",
        "colab_type": "text"
      },
      "source": [
        "<a href=\"https://colab.research.google.com/github/ahmedynah/Epsilon-AI/blob/main/02_Quiz_Area_of_Rectangle.ipynb\" target=\"_parent\"><img src=\"https://colab.research.google.com/assets/colab-badge.svg\" alt=\"Open In Colab\"/></a>"
      ]
    },
    {
      "cell_type": "code",
      "metadata": {
        "id": "UVsn3SKwpfqs",
        "outputId": "6da32eb1-11fe-41d2-bf97-2fa8c1c86f8a"
      },
      "source": [
        "width = int(input('enter width: '))\n",
        "height = int(input('enter height: '))"
      ],
      "execution_count": null,
      "outputs": [
        {
          "output_type": "stream",
          "text": [
            "enter width: 10\n",
            "enter height: 20\n"
          ],
          "name": "stdout"
        }
      ]
    },
    {
      "cell_type": "code",
      "metadata": {
        "id": "xrCD77Eqpfqu",
        "outputId": "4dda975b-73de-459f-d08a-3689061f1d22"
      },
      "source": [
        "area = width * height\n",
        "print(area)"
      ],
      "execution_count": null,
      "outputs": [
        {
          "output_type": "stream",
          "text": [
            "200\n"
          ],
          "name": "stdout"
        }
      ]
    },
    {
      "cell_type": "markdown",
      "metadata": {
        "id": "eERpSX_Mpfqu"
      },
      "source": [
        "**there is a great feature in jupyter notebook**"
      ]
    },
    {
      "cell_type": "code",
      "metadata": {
        "id": "fai4yxBIpfqu",
        "outputId": "060121cf-9630-4768-d685-cc934c651424"
      },
      "source": [
        "area"
      ],
      "execution_count": null,
      "outputs": [
        {
          "output_type": "execute_result",
          "data": {
            "text/plain": [
              "200"
            ]
          },
          "metadata": {
            "tags": []
          },
          "execution_count": 3
        }
      ]
    },
    {
      "cell_type": "code",
      "metadata": {
        "id": "w0RA4FVtpfqv",
        "outputId": "ddb48f39-b30c-4cc0-f9a4-3e0c82db058d"
      },
      "source": [
        "height"
      ],
      "execution_count": null,
      "outputs": [
        {
          "output_type": "execute_result",
          "data": {
            "text/plain": [
              "20"
            ]
          },
          "metadata": {
            "tags": []
          },
          "execution_count": 4
        }
      ]
    },
    {
      "cell_type": "code",
      "metadata": {
        "id": "MDcXB2F8pfqv",
        "outputId": "3a3f10f6-8239-49dc-90d8-66760bbf633d"
      },
      "source": [
        "width"
      ],
      "execution_count": null,
      "outputs": [
        {
          "output_type": "execute_result",
          "data": {
            "text/plain": [
              "10"
            ]
          },
          "metadata": {
            "tags": []
          },
          "execution_count": 5
        }
      ]
    },
    {
      "cell_type": "markdown",
      "metadata": {
        "id": "AuN7gy4gpfqv"
      },
      "source": [
        "**note that jupyter only apply this feature on the last line**"
      ]
    },
    {
      "cell_type": "code",
      "metadata": {
        "id": "iJpgHV1ypfqv",
        "outputId": "49d966d3-a49c-4776-9003-b92688b116b0"
      },
      "source": [
        "width\n",
        "height\n",
        "area"
      ],
      "execution_count": null,
      "outputs": [
        {
          "output_type": "execute_result",
          "data": {
            "text/plain": [
              "200"
            ]
          },
          "metadata": {
            "tags": []
          },
          "execution_count": 8
        }
      ]
    },
    {
      "cell_type": "code",
      "metadata": {
        "id": "2VqGhphgpfqw",
        "outputId": "ebc53213-a2f3-4931-f2de-1943778fa99a"
      },
      "source": [
        "area = width * height\n",
        "area"
      ],
      "execution_count": null,
      "outputs": [
        {
          "output_type": "execute_result",
          "data": {
            "text/plain": [
              "200"
            ]
          },
          "metadata": {
            "tags": []
          },
          "execution_count": 9
        }
      ]
    },
    {
      "cell_type": "markdown",
      "metadata": {
        "id": "KQ6h55Qmpfqw"
      },
      "source": [
        "# Great Work!"
      ]
    }
  ]
}