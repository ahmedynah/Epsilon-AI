{
  "nbformat": 4,
  "nbformat_minor": 0,
  "metadata": {
    "colab": {
      "name": "Banking System using OOP .ipynb",
      "provenance": [],
      "collapsed_sections": [],
      "authorship_tag": "ABX9TyNlvp/u/XWqukRspvgucpCY",
      "include_colab_link": true
    },
    "kernelspec": {
      "name": "python3",
      "display_name": "Python 3"
    },
    "language_info": {
      "name": "python"
    }
  },
  "cells": [
    {
      "cell_type": "markdown",
      "metadata": {
        "id": "view-in-github",
        "colab_type": "text"
      },
      "source": [
        "<a href=\"https://colab.research.google.com/github/ahmedynah/Epsilon-AI/blob/main/Banking_System_using_OOP_.ipynb\" target=\"_parent\"><img src=\"https://colab.research.google.com/assets/colab-badge.svg\" alt=\"Open In Colab\"/></a>"
      ]
    },
    {
      "cell_type": "code",
      "metadata": {
        "id": "VkreC-O0IoPE"
      },
      "source": [
        "class User:\n",
        "  def __init__(self, name, age, gender):\n",
        "    self.__name = name\n",
        "    self.__age = age\n",
        "    self.__gender = gender\n",
        "  \n",
        "  def __str__(self):\n",
        "      return f'Client\\'s Info:{chr(10)}--------------{chr(10)}Name: {self.__name} {chr(10)}Age: {self.__age} {chr(10)}Gender: {self.__gender}'\n",
        "\n",
        "  def set_name(self, name):\n",
        "    \n",
        "    '''\n",
        "    updates the name\n",
        "\n",
        "    Parameters:\n",
        "        self (object):The created object itself\n",
        "        name (str): the client's name\n",
        "    '''\n",
        "    for i in name.split():\n",
        "      if not i.isalpha():\n",
        "        print(\"Please, Character only allowed. The name '{0}' is not allowed\".format(i))\n",
        "        break\n",
        "    else:\n",
        "       print(\"Name is updated Successfully!\", name)\n",
        "       self.__name = name\n",
        "       \n",
        "\n",
        "\n",
        "\n",
        "  def get_name(self):\n",
        "    \n",
        "    '''\n",
        "    returns the name\n",
        "\n",
        "    Parameters:\n",
        "        self (object):The created object itself\n",
        "    '''\n",
        "    return self.__name\n",
        "  \n",
        "  def set_gender(self, gender):\n",
        "    \n",
        "    '''\n",
        "    updates the gender\n",
        "\n",
        "    Parameters:\n",
        "        self (object):The created object itself\n",
        "       gender (str): the client's gender\n",
        "    '''\n",
        "    try:\n",
        "      if gender.lower() == \"male\" or gender.lower() == \"female\":\n",
        "        self.__gender = gender.lower()\n",
        "      else:\n",
        "        print(\"Please, choose between male or female.\")\n",
        "        return\n",
        "    except:\n",
        "      print(\"Please, only alphabtic characters allowed\")\n",
        "    else:\n",
        "      print(\"Gender is updated Successfully!\")\n",
        "\n",
        "  def get_gender(self):\n",
        "    \n",
        "    '''\n",
        "    returns the gender\n",
        "\n",
        "    Parameters:\n",
        "        self (object):The created object itself\n",
        "    '''\n",
        "    return self.__gender\n",
        "  \n",
        "  def set_age(self, age):\n",
        "        \n",
        "    '''\n",
        "    updates the age\n",
        "\n",
        "    Parameters:\n",
        "        self (object):The created object itself\n",
        "        age (int): the client's age\n",
        "    '''\n",
        "    try:\n",
        "      if age > 0:\n",
        "        self.__age = age\n",
        "      else:\n",
        "        print(\"Please, enter a valid age\")\n",
        "    except:\n",
        "      print(\"Please, only numbers allowed\")\n",
        "    else:\n",
        "      print(\"Age is updated Successfully!\")\n",
        "\n",
        "  def get_age(self):\n",
        "        \n",
        "    '''\n",
        "    returns the age\n",
        "\n",
        "    Parameters:\n",
        "        self (object):The created object itself\n",
        "\n",
        "    '''\n",
        "    return self.__age"
      ],
      "execution_count": 152,
      "outputs": []
    },
    {
      "cell_type": "code",
      "metadata": {
        "id": "YlQVxhHpOo8l"
      },
      "source": [
        "client1 = User(\"Ahmed Hany\", 23, \"Male\")"
      ],
      "execution_count": 153,
      "outputs": []
    },
    {
      "cell_type": "code",
      "metadata": {
        "colab": {
          "base_uri": "https://localhost:8080/"
        },
        "id": "N-Q5bogtQfq8",
        "outputId": "0c167fe4-dce9-4657-9f55-38e540c96f0c"
      },
      "source": [
        "client1.set_name(\"Ahmed Hany 2012\")\n",
        "client1.set_name(\"Ahmed Hany Hassan\")\n",
        "print(client1.get_name())"
      ],
      "execution_count": 154,
      "outputs": [
        {
          "output_type": "stream",
          "text": [
            "Please, Character only allowed. The name '2012' is not allowed\n",
            "Name is updated Successfully! Ahmed Hany Hassan\n",
            "Ahmed Hany Hassan\n"
          ],
          "name": "stdout"
        }
      ]
    },
    {
      "cell_type": "code",
      "metadata": {
        "colab": {
          "base_uri": "https://localhost:8080/"
        },
        "id": "D-wnIZN-QlTP",
        "outputId": "6c923da9-741b-4840-f0bb-08603b071c93"
      },
      "source": [
        "client1.set_age(\"25\")\n",
        "client1.set_age(25)\n",
        "print(client1.get_age())"
      ],
      "execution_count": 155,
      "outputs": [
        {
          "output_type": "stream",
          "text": [
            "Please, only numbers allowed\n",
            "Age is updated Successfully!\n",
            "25\n"
          ],
          "name": "stdout"
        }
      ]
    },
    {
      "cell_type": "code",
      "metadata": {
        "colab": {
          "base_uri": "https://localhost:8080/"
        },
        "id": "F2FbqBeNUfCX",
        "outputId": "a5359cff-53ce-4eb9-eeaf-97753d46bd4f"
      },
      "source": [
        "# client1.set_gender(\"l\")\n",
        "client1.set_gender(\"Male\")\n",
        "print(client1.get_gender())"
      ],
      "execution_count": 156,
      "outputs": [
        {
          "output_type": "stream",
          "text": [
            "Gender is updated Successfully!\n",
            "male\n"
          ],
          "name": "stdout"
        }
      ]
    },
    {
      "cell_type": "code",
      "metadata": {
        "colab": {
          "base_uri": "https://localhost:8080/"
        },
        "id": "isr179SWXG-q",
        "outputId": "0ac0e198-e655-4c61-acf0-5966f017867b"
      },
      "source": [
        "print(client1)"
      ],
      "execution_count": 157,
      "outputs": [
        {
          "output_type": "stream",
          "text": [
            "Client's Info:\n",
            "--------------\n",
            "Name: Ahmed Hany Hassan \n",
            "Age: 25 \n",
            "Gender: male\n"
          ],
          "name": "stdout"
        }
      ]
    },
    {
      "cell_type": "code",
      "metadata": {
        "id": "q2P9VrNwY2yN"
      },
      "source": [
        "class Bank(User):\n",
        "  def __init__(self, name, gender, age):\n",
        "    self.__client = User(name,age,gender)\n",
        "    self.__balance = 0\n",
        "\n",
        "  def get_balance(self):\n",
        "    '''\n",
        "    returns the current balance\n",
        "    '''\n",
        "    return self.__balance\n",
        "\n",
        "  def deposite(self, amount):\n",
        "    '''\n",
        "    adds amount of money to the account balance\n",
        "\n",
        "    parameters:\n",
        "          amount (float): the amount to be added\n",
        "    '''\n",
        "    try:\n",
        "      if amount > 0:\n",
        "        self.__balance += amount\n",
        "        print(f\"Successfully added {amount}$ to the account!\")\n",
        "      else:\n",
        "        print(\"Please, enter a valid deposite!\")\n",
        "    except:\n",
        "      print(\"Only numeric values are accepted!\")\n",
        "\n",
        "\n",
        "  def withdraw (self, amount):\n",
        "    '''\n",
        "    subtract amount of money from the account balance\n",
        "\n",
        "    parameters:\n",
        "          amount (float): the amount to be subtracted\n",
        "    '''\n",
        "    try:\n",
        "      if amount > self.__balance:\n",
        "        print(f\"No enough money in the account, only {self.__balance}$ left!\")\n",
        "      else:\n",
        "        self.__balance -= amount\n",
        "        print(f\"{amount}$ withdrawn successfully from your account, your current balance is : {self.__balance}\")\n",
        "    except:\n",
        "      print(\"Only numeric values are accepted!\")\n",
        "\n",
        "  def __str__(self):\n",
        "    return str(self.__client) + \"\\n\" + \"Balance: \" + str(self.__balance)"
      ],
      "execution_count": 194,
      "outputs": []
    },
    {
      "cell_type": "code",
      "metadata": {
        "id": "MiT3DVqTFMHE"
      },
      "source": [
        "account1 = Bank(\"Ahmed\", \"Male\", 25)"
      ],
      "execution_count": 195,
      "outputs": []
    },
    {
      "cell_type": "code",
      "metadata": {
        "colab": {
          "base_uri": "https://localhost:8080/"
        },
        "id": "GgdgiZJSFeYD",
        "outputId": "ddb41054-5b04-4a4c-89dc-91be0dc54905"
      },
      "source": [
        "print(account1)"
      ],
      "execution_count": 196,
      "outputs": [
        {
          "output_type": "stream",
          "text": [
            "Client's Info:\n",
            "--------------\n",
            "Name: Ahmed \n",
            "Age: 25 \n",
            "Gender: Male\n",
            "Balance: 0\n"
          ],
          "name": "stdout"
        }
      ]
    },
    {
      "cell_type": "code",
      "metadata": {
        "colab": {
          "base_uri": "https://localhost:8080/"
        },
        "id": "ABAVJJlHFi5q",
        "outputId": "10598433-fb6a-4c5d-d967-2f6f731a930a"
      },
      "source": [
        "account1.get_balance()"
      ],
      "execution_count": 197,
      "outputs": [
        {
          "output_type": "execute_result",
          "data": {
            "text/plain": [
              "0"
            ]
          },
          "metadata": {},
          "execution_count": 197
        }
      ]
    },
    {
      "cell_type": "code",
      "metadata": {
        "colab": {
          "base_uri": "https://localhost:8080/"
        },
        "id": "-9lnpVxkG_Mi",
        "outputId": "4e8696d8-f0a3-459f-fd20-502683a19f63"
      },
      "source": [
        "account1.withdraw(100)"
      ],
      "execution_count": 198,
      "outputs": [
        {
          "output_type": "stream",
          "text": [
            "No enough money in the account, only 0$ left!\n"
          ],
          "name": "stdout"
        }
      ]
    },
    {
      "cell_type": "code",
      "metadata": {
        "colab": {
          "base_uri": "https://localhost:8080/"
        },
        "id": "O33droWyH5sT",
        "outputId": "41a3fae4-d4b7-4725-8ac8-082eaf01cd61"
      },
      "source": [
        "account1.withdraw(\"k\")"
      ],
      "execution_count": 200,
      "outputs": [
        {
          "output_type": "stream",
          "text": [
            "Only numeric values are accepted!\n"
          ],
          "name": "stdout"
        }
      ]
    },
    {
      "cell_type": "code",
      "metadata": {
        "colab": {
          "base_uri": "https://localhost:8080/"
        },
        "id": "viR7SWHCHEQ0",
        "outputId": "eae174d1-5a65-438e-b910-4d98a52040c2"
      },
      "source": [
        "account1.deposite(9999999)"
      ],
      "execution_count": 199,
      "outputs": [
        {
          "output_type": "stream",
          "text": [
            "Successfully added 9999999$ to the account!\n"
          ],
          "name": "stdout"
        }
      ]
    },
    {
      "cell_type": "code",
      "metadata": {
        "colab": {
          "base_uri": "https://localhost:8080/"
        },
        "id": "dlCzl4-6HMUy",
        "outputId": "39bbde6f-4d28-4bd7-d04f-70df02405568"
      },
      "source": [
        "account1.deposite(\"l\")"
      ],
      "execution_count": 193,
      "outputs": [
        {
          "output_type": "stream",
          "text": [
            "Only numeric values are accepted!\n"
          ],
          "name": "stdout"
        }
      ]
    },
    {
      "cell_type": "code",
      "metadata": {
        "colab": {
          "base_uri": "https://localhost:8080/"
        },
        "id": "1WrRs0LzHedX",
        "outputId": "45ba7784-22c6-498e-e5dc-17a9ac6c12a5"
      },
      "source": [
        "account1.withdraw(255)"
      ],
      "execution_count": 201,
      "outputs": [
        {
          "output_type": "stream",
          "text": [
            "255$ withdrawn successfully from your account, your current balance is : 9999744\n"
          ],
          "name": "stdout"
        }
      ]
    },
    {
      "cell_type": "code",
      "metadata": {
        "colab": {
          "base_uri": "https://localhost:8080/"
        },
        "id": "niVKT7ZcIAtk",
        "outputId": "0cf29d84-b0cb-4a0e-f2e4-6252a5ac9aa1"
      },
      "source": [
        "print(account1)"
      ],
      "execution_count": 202,
      "outputs": [
        {
          "output_type": "stream",
          "text": [
            "Client's Info:\n",
            "--------------\n",
            "Name: Ahmed \n",
            "Age: 25 \n",
            "Gender: Male\n",
            "Balance: 9999744\n"
          ],
          "name": "stdout"
        }
      ]
    },
    {
      "cell_type": "code",
      "metadata": {
        "id": "EPuU-zX7IFWb"
      },
      "source": [
        ""
      ],
      "execution_count": null,
      "outputs": []
    }
  ]
}