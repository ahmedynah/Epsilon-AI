{
  "nbformat": 4,
  "nbformat_minor": 0,
  "metadata": {
    "colab": {
      "name": "Banking System using OOP .ipynb",
      "provenance": [],
      "collapsed_sections": [],
      "authorship_tag": "ABX9TyOrwAU/i4DcbdyOOcMnmMjZ",
      "include_colab_link": true
    },
    "kernelspec": {
      "name": "python3",
      "display_name": "Python 3"
    },
    "language_info": {
      "name": "python"
    }
  },
  "cells": [
    {
      "cell_type": "markdown",
      "metadata": {
        "id": "view-in-github",
        "colab_type": "text"
      },
      "source": [
        "<a href=\"https://colab.research.google.com/github/ahmedynah/Epsilon-AI/blob/main/Banking_System_using_OOP_.ipynb\" target=\"_parent\"><img src=\"https://colab.research.google.com/assets/colab-badge.svg\" alt=\"Open In Colab\"/></a>"
      ]
    },
    {
      "cell_type": "code",
      "metadata": {
        "id": "VkreC-O0IoPE"
      },
      "source": [
        "class User:\n",
        "  def __init__(self, name, age, gender):\n",
        "    self.__name = name\n",
        "    self.__age = age\n",
        "    self.__gender = gender\n",
        "  \n",
        "  def __str__(self):\n",
        "      return f'Client\\'s Info:{chr(10)}--------------{chr(10)}Name: {self.__name} {chr(10)}Age: {self.__age} {chr(10)}Gender: {self.__gender}'\n",
        "\n",
        "  def set_name(self, name):\n",
        "    \n",
        "    '''\n",
        "    updates the name\n",
        "\n",
        "    Parameters:\n",
        "        self (object):The created object itself\n",
        "        name (str): the client's name\n",
        "    '''\n",
        "    for i in name.split():\n",
        "      if not i.isalpha():\n",
        "        print(\"Please, Character only allowed. The name '{0}' is not allowed\".format(i))\n",
        "        break\n",
        "    else:\n",
        "       print(\"Name is updated Successfully!\", name)\n",
        "       self.__name = name\n",
        "       \n",
        "\n",
        "\n",
        "\n",
        "  def get_name(self):\n",
        "    \n",
        "    '''\n",
        "    returns the name\n",
        "\n",
        "    Parameters:\n",
        "        self (object):The created object itself\n",
        "    '''\n",
        "    return self.__name\n",
        "  \n",
        "  def set_gender(self, gender):\n",
        "    \n",
        "    '''\n",
        "    updates the gender\n",
        "\n",
        "    Parameters:\n",
        "        self (object):The created object itself\n",
        "       gender (str): the client's gender\n",
        "    '''\n",
        "    try:\n",
        "      if gender.lower() == \"male\" or gender.lower() == \"female\":\n",
        "        self.__gender = gender.lower()\n",
        "      else:\n",
        "        print(\"Please, choose between male or female.\")\n",
        "        return\n",
        "    except:\n",
        "      print(\"Please, only alphabtic characters allowed\")\n",
        "    else:\n",
        "      print(\"Gender is updated Successfully!\")\n",
        "\n",
        "  def get_gender(self):\n",
        "    \n",
        "    '''\n",
        "    returns the gender\n",
        "\n",
        "    Parameters:\n",
        "        self (object):The created object itself\n",
        "    '''\n",
        "    return self.__gender\n",
        "  \n",
        "  def set_age(self, age):\n",
        "        \n",
        "    '''\n",
        "    updates the age\n",
        "\n",
        "    Parameters:\n",
        "        self (object):The created object itself\n",
        "        age (int): the client's age\n",
        "    '''\n",
        "    try:\n",
        "      if age > 0:\n",
        "        self.__age = age\n",
        "      else:\n",
        "        print(\"Please, enter a valid age\")\n",
        "    except:\n",
        "      print(\"Please, only numbers allowed\")\n",
        "    else:\n",
        "      print(\"Age is updated Successfully!\")\n",
        "\n",
        "  def get_age(self):\n",
        "        \n",
        "    '''\n",
        "    returns the age\n",
        "\n",
        "    Parameters:\n",
        "        self (object):The created object itself\n",
        "\n",
        "    '''\n",
        "    return self.__age"
      ],
      "execution_count": 14,
      "outputs": []
    },
    {
      "cell_type": "code",
      "metadata": {
        "id": "YlQVxhHpOo8l"
      },
      "source": [
        "client1 = User(\"Ahmed Hany\", 23, \"Male\")"
      ],
      "execution_count": 15,
      "outputs": []
    },
    {
      "cell_type": "code",
      "metadata": {
        "colab": {
          "base_uri": "https://localhost:8080/"
        },
        "id": "N-Q5bogtQfq8",
        "outputId": "3bd29182-cc37-4e83-af7a-f51a0e0781b2"
      },
      "source": [
        "client1.set_name(\"Ahmed Hany 2012\")\n",
        "client1.set_name(\"Ahmed Hany Hassan\")\n",
        "print(client1.get_name())"
      ],
      "execution_count": 16,
      "outputs": [
        {
          "output_type": "stream",
          "text": [
            "Please, Character only allowed. The name '2012' is not allowed\n",
            "Name is updated Successfully! Ahmed Hany Hassan\n",
            "Ahmed Hany Hassan\n"
          ],
          "name": "stdout"
        }
      ]
    },
    {
      "cell_type": "code",
      "metadata": {
        "colab": {
          "base_uri": "https://localhost:8080/"
        },
        "id": "D-wnIZN-QlTP",
        "outputId": "6f20e910-20b9-45bc-c4ed-5e36d4f898df"
      },
      "source": [
        "client1.set_age(\"25\")\n",
        "client1.set_age(25)\n",
        "print(client1.get_age())"
      ],
      "execution_count": 17,
      "outputs": [
        {
          "output_type": "stream",
          "text": [
            "Please, only numbers allowed\n",
            "Age is updated Successfully!\n",
            "25\n"
          ],
          "name": "stdout"
        }
      ]
    },
    {
      "cell_type": "code",
      "metadata": {
        "colab": {
          "base_uri": "https://localhost:8080/"
        },
        "id": "F2FbqBeNUfCX",
        "outputId": "c015c6ef-523c-4633-9eab-f721d77d043c"
      },
      "source": [
        "# client1.set_gender(\"l\")\n",
        "client1.set_gender(\"Male\")\n",
        "print(client1.get_gender())"
      ],
      "execution_count": 18,
      "outputs": [
        {
          "output_type": "stream",
          "text": [
            "Gender is updated Successfully!\n",
            "male\n"
          ],
          "name": "stdout"
        }
      ]
    },
    {
      "cell_type": "code",
      "metadata": {
        "colab": {
          "base_uri": "https://localhost:8080/"
        },
        "id": "isr179SWXG-q",
        "outputId": "671120df-a3d1-46ed-c4f3-de46afc937a2"
      },
      "source": [
        "print(client1)"
      ],
      "execution_count": 19,
      "outputs": [
        {
          "output_type": "stream",
          "text": [
            "Client's Info:\n",
            "--------------\n",
            "Name: Ahmed Hany Hassan \n",
            "Age: 25 \n",
            "Gender: male\n"
          ],
          "name": "stdout"
        }
      ]
    },
    {
      "cell_type": "code",
      "metadata": {
        "id": "q2P9VrNwY2yN"
      },
      "source": [
        "class Bank(User):\n",
        "  current_ID = 0\n",
        "  def __init__(self, name, gender, age, password):\n",
        "    self.__client = User(name,age,gender)\n",
        "    self.__balance = 0\n",
        "    self.__ID = self.current_ID\n",
        "    self.set_password(password)\n",
        "    print(f\"Account Created Successfully with ID : {self.current_ID}!\")\n",
        "    self.current_ID += 1\n",
        "\n",
        "\n",
        "  def get_ID(self):\n",
        "    '''\n",
        "    returns the current balance\n",
        "    '''\n",
        "    return self.__ID\n",
        "\n",
        "  def set_password(self, password):\n",
        "    if len(password) > 4 and len(password) < 16:\n",
        "      self.__password = password\n",
        "    else:\n",
        "      print(\"Enter a valid password length!\")\n",
        "    \n",
        "\n",
        "  def get_pass(self):\n",
        "    '''\n",
        "    returns the current balance\n",
        "    '''\n",
        "    return self.__password\n",
        "\n",
        "  def get_balance(self):\n",
        "    '''\n",
        "    returns the current balance\n",
        "    '''\n",
        "    return self.__balance\n",
        "\n",
        "  def deposite(self, amount):\n",
        "    '''\n",
        "    adds amount of money to the account balance\n",
        "\n",
        "    parameters:\n",
        "          amount (float): the amount to be added\n",
        "    '''\n",
        "    try:\n",
        "      if amount > 0:\n",
        "        self.__balance += amount\n",
        "        print(f\"Successfully added {amount}$ to the account!\")\n",
        "      else:\n",
        "        print(\"Please, enter a valid deposite!\")\n",
        "    except:\n",
        "      print(\"Only numeric values are accepted!\")\n",
        "\n",
        "\n",
        "  def withdraw (self, amount):\n",
        "    '''\n",
        "    subtract amount of money from the account balance\n",
        "\n",
        "    parameters:\n",
        "          amount (float): the amount to be subtracted\n",
        "    '''\n",
        "    try:\n",
        "      if amount > self.__balance:\n",
        "        print(f\"No enough money in the account, only {self.__balance}$ left!\")\n",
        "      else:\n",
        "        self.__balance -= amount\n",
        "        print(f\"{amount}$ withdrawn successfully from your account, your current balance is : {self.__balance}\")\n",
        "    except:\n",
        "      print(\"Only numeric values are accepted!\")\n",
        "\n",
        "  def __str__(self):\n",
        "    return str(self.__client) + \"\\n\" + \"ID: \" + str(self.__ID) + \"\\n\" + \"Balance: \" + str(self.__balance)"
      ],
      "execution_count": 102,
      "outputs": []
    },
    {
      "cell_type": "code",
      "metadata": {
        "id": "Arz8FNi7KmsB"
      },
      "source": [
        "instructions = \"\"\"\n",
        "1 to show all details account \n",
        "2 to show account balance \n",
        "3 to withdraw \n",
        "4 to deposit \n",
        "\n",
        "0 to log out\\n---------\\n\"\"\""
      ],
      "execution_count": 103,
      "outputs": []
    },
    {
      "cell_type": "code",
      "metadata": {
        "id": "C1e5nwoZU8my"
      },
      "source": [
        "def create_new_account():\n",
        "    name = input(\"Enter your Full name: \")\n",
        "    gender = input(\"Male or Female? \")\n",
        "    age = int(input(\"Enter your Age: i.e. no decimal just integer: \"))\n",
        "    password = input(\"Enter password: \")\n",
        "    account0 = Bank(name, gender, age, password)\n",
        "    Bank.current_ID += 1\n",
        "    return account0\n"
      ],
      "execution_count": 104,
      "outputs": []
    },
    {
      "cell_type": "code",
      "metadata": {
        "id": "Ntw1UEjztXF8"
      },
      "source": [
        "def check_credentials (id, password, accounts):\n",
        "  for (i, j) in accounts:\n",
        "      if i() == id and j() == password:\n",
        "        return True\n",
        "  else:\n",
        "    return False"
      ],
      "execution_count": 105,
      "outputs": []
    },
    {
      "cell_type": "code",
      "metadata": {
        "id": "50VmgulruYZ8"
      },
      "source": [
        "def do_operation (number, account):\n",
        "  if  number == 1:\n",
        "    print(account)\n",
        "  elif number == 2:\n",
        "    print(account.get_balance())\n",
        "  elif number == 3:\n",
        "    am0 = float(input(\"Enter the amount to withdraw : \"))\n",
        "    print(account.withdraw(am0))\n",
        "  elif number == 4:\n",
        "    am1 = float(input(\"Enter the amount to deposite: \"))\n",
        "    print(account.deposite(am1))\n"
      ],
      "execution_count": 109,
      "outputs": []
    },
    {
      "cell_type": "code",
      "metadata": {
        "id": "Xte68RSjJrFy"
      },
      "source": [
        "def main():\n",
        "  accounts = []\n",
        "  while (True):\n",
        "    # try:\n",
        "      if input(\"Create New Account? Y/N: \").lower() == \"y\":\n",
        "       account0 = create_new_account()\n",
        "       accounts.append((account0.get_ID, account0.get_pass))\n",
        "      else:\n",
        "        if input(\"Log in? Y/N: \").lower() == 'y':\n",
        "          while (True):\n",
        "                print(\"\\n New operation\\n------------\\n\")\n",
        "                if check_credentials(int(input(\"Enter your ID: \")), input(\"Enter password: \"), accounts):\n",
        "                  inst = int(input(instructions))\n",
        "                  if inst == 0:\n",
        "                    print(\"Logged Out\")\n",
        "                    break\n",
        "                  else:\n",
        "                    do_operation(inst, account0)\n",
        "                else:\n",
        "                  print(\"wrong credentials\")\n",
        "                  break\n",
        "        else:\n",
        "          if not int(input(\"0 to exit the system: \")):\n",
        "            break\n",
        "    # except:\n",
        "    #   print(\"please enter Y or N only!\", type(e))  \n"
      ],
      "execution_count": 110,
      "outputs": []
    },
    {
      "cell_type": "code",
      "metadata": {
        "colab": {
          "base_uri": "https://localhost:8080/"
        },
        "id": "EgjkukRawqxr",
        "outputId": "515e95c8-f1c2-4ed6-fa7f-bad2c988805b"
      },
      "source": [
        "main()"
      ],
      "execution_count": 111,
      "outputs": [
        {
          "output_type": "stream",
          "text": [
            "Create New Account? Y/N: y\n",
            "Enter your Full name: ahmed hany\n",
            "Male or Female? male\n",
            "Enter your Age: i.e. no decimal just integer: 25\n",
            "Enter password: 123456\n",
            "Account Created Successfully with ID : 1!\n",
            "Create New Account? Y/N: n\n",
            "Log in? Y/N: Y\n",
            "\n",
            " New operation\n",
            "------------\n",
            "\n",
            "Enter your ID: 1\n",
            "Enter password: 123456\n",
            "1 123456\n",
            "\n",
            "1 to show all details account \n",
            "2 to show account balance \n",
            "3 to withdraw \n",
            "4 to deposit \n",
            "\n",
            "0 to log out\n",
            "---------\n",
            "4\n",
            "Enter the amount to deposite: 1000\n",
            "Successfully added 1000.0$ to the account!\n",
            "None\n",
            "\n",
            " New operation\n",
            "------------\n",
            "\n",
            "Enter your ID: 1\n",
            "Enter password: 123456\n",
            "1 123456\n",
            "\n",
            "1 to show all details account \n",
            "2 to show account balance \n",
            "3 to withdraw \n",
            "4 to deposit \n",
            "\n",
            "0 to log out\n",
            "---------\n",
            "1\n",
            "Client's Info:\n",
            "--------------\n",
            "Name: ahmed hany \n",
            "Age: 25 \n",
            "Gender: male\n",
            "ID: 1\n",
            "Balance: 1000.0\n",
            "\n",
            " New operation\n",
            "------------\n",
            "\n",
            "Enter your ID: 0\n",
            "Enter password: 123456\n",
            "1 123456\n",
            "wrong credentials\n",
            "Create New Account? Y/N: y\n",
            "Enter your Full name: hamasa\n",
            "Male or Female? male\n",
            "Enter your Age: i.e. no decimal just integer: 12\n",
            "Enter password: 123456\n",
            "Account Created Successfully with ID : 2!\n",
            "Create New Account? Y/N: n\n",
            "Log in? Y/N: y\n",
            "\n",
            " New operation\n",
            "------------\n",
            "\n",
            "Enter your ID: 2\n",
            "Enter password: 123456\n",
            "1 123456\n",
            "2 123456\n",
            "\n",
            "1 to show all details account \n",
            "2 to show account balance \n",
            "3 to withdraw \n",
            "4 to deposit \n",
            "\n",
            "0 to log out\n",
            "---------\n",
            "4\n",
            "Enter the amount to deposite: 1000000\n",
            "Successfully added 1000000.0$ to the account!\n",
            "None\n",
            "\n",
            " New operation\n",
            "------------\n",
            "\n",
            "Enter your ID: 2\n",
            "Enter password: 123456\n",
            "1 123456\n",
            "2 123456\n",
            "\n",
            "1 to show all details account \n",
            "2 to show account balance \n",
            "3 to withdraw \n",
            "4 to deposit \n",
            "\n",
            "0 to log out\n",
            "---------\n",
            "0\n",
            "Logged Out\n",
            "Create New Account? Y/N: n\n",
            "Log in? Y/N: o\n",
            "0 to exit the system: 0\n"
          ],
          "name": "stdout"
        }
      ]
    },
    {
      "cell_type": "code",
      "metadata": {
        "colab": {
          "base_uri": "https://localhost:8080/"
        },
        "id": "MiT3DVqTFMHE",
        "outputId": "ee997f80-c0c7-4204-c121-922a6e3a0dbb"
      },
      "source": [
        "account1 = Bank(\"Ahmed\", \"Male\", 25, \"123456\")"
      ],
      "execution_count": 113,
      "outputs": [
        {
          "output_type": "stream",
          "text": [
            "Account Created Successfully with ID : 3!\n"
          ],
          "name": "stdout"
        }
      ]
    },
    {
      "cell_type": "code",
      "metadata": {
        "colab": {
          "base_uri": "https://localhost:8080/"
        },
        "id": "GgdgiZJSFeYD",
        "outputId": "703722f9-4924-4afd-c454-99709d23256f"
      },
      "source": [
        "print(account1)"
      ],
      "execution_count": 114,
      "outputs": [
        {
          "output_type": "stream",
          "text": [
            "Client's Info:\n",
            "--------------\n",
            "Name: Ahmed \n",
            "Age: 25 \n",
            "Gender: Male\n",
            "ID: 3\n",
            "Balance: 0\n"
          ],
          "name": "stdout"
        }
      ]
    },
    {
      "cell_type": "code",
      "metadata": {
        "colab": {
          "base_uri": "https://localhost:8080/"
        },
        "id": "ABAVJJlHFi5q",
        "outputId": "cea89717-0010-41ec-f3fc-fcf3f410a994"
      },
      "source": [
        "account1.get_balance()"
      ],
      "execution_count": 115,
      "outputs": [
        {
          "output_type": "execute_result",
          "data": {
            "text/plain": [
              "0"
            ]
          },
          "metadata": {},
          "execution_count": 115
        }
      ]
    },
    {
      "cell_type": "code",
      "metadata": {
        "colab": {
          "base_uri": "https://localhost:8080/"
        },
        "id": "-9lnpVxkG_Mi",
        "outputId": "e9114897-dec5-4fac-e7d6-318b35a2dcc5"
      },
      "source": [
        "account1.withdraw(100)"
      ],
      "execution_count": 116,
      "outputs": [
        {
          "output_type": "stream",
          "text": [
            "No enough money in the account, only 0$ left!\n"
          ],
          "name": "stdout"
        }
      ]
    },
    {
      "cell_type": "code",
      "metadata": {
        "colab": {
          "base_uri": "https://localhost:8080/"
        },
        "id": "O33droWyH5sT",
        "outputId": "5d7ac646-49a0-445f-d2fe-de40ec9b6301"
      },
      "source": [
        "account1.withdraw(\"k\")"
      ],
      "execution_count": 117,
      "outputs": [
        {
          "output_type": "stream",
          "text": [
            "Only numeric values are accepted!\n"
          ],
          "name": "stdout"
        }
      ]
    },
    {
      "cell_type": "code",
      "metadata": {
        "colab": {
          "base_uri": "https://localhost:8080/"
        },
        "id": "viR7SWHCHEQ0",
        "outputId": "428be0bb-eea9-4736-e6e2-33984e4f796f"
      },
      "source": [
        "account1.deposite(9999999)"
      ],
      "execution_count": 118,
      "outputs": [
        {
          "output_type": "stream",
          "text": [
            "Successfully added 9999999$ to the account!\n"
          ],
          "name": "stdout"
        }
      ]
    },
    {
      "cell_type": "code",
      "metadata": {
        "colab": {
          "base_uri": "https://localhost:8080/"
        },
        "id": "dlCzl4-6HMUy",
        "outputId": "12e2af27-6963-4d6f-92d5-0294f072688d"
      },
      "source": [
        "account1.deposite(\"l\")"
      ],
      "execution_count": 119,
      "outputs": [
        {
          "output_type": "stream",
          "text": [
            "Only numeric values are accepted!\n"
          ],
          "name": "stdout"
        }
      ]
    },
    {
      "cell_type": "code",
      "metadata": {
        "colab": {
          "base_uri": "https://localhost:8080/"
        },
        "id": "1WrRs0LzHedX",
        "outputId": "aaf57250-60ee-40b7-d8c4-52531592eae1"
      },
      "source": [
        "account1.withdraw(255)"
      ],
      "execution_count": 120,
      "outputs": [
        {
          "output_type": "stream",
          "text": [
            "255$ withdrawn successfully from your account, your current balance is : 9999744\n"
          ],
          "name": "stdout"
        }
      ]
    },
    {
      "cell_type": "code",
      "metadata": {
        "colab": {
          "base_uri": "https://localhost:8080/"
        },
        "id": "niVKT7ZcIAtk",
        "outputId": "f90cdf62-4db6-4244-9ed3-4d5b468837f3"
      },
      "source": [
        "print(account1)"
      ],
      "execution_count": 121,
      "outputs": [
        {
          "output_type": "stream",
          "text": [
            "Client's Info:\n",
            "--------------\n",
            "Name: Ahmed \n",
            "Age: 25 \n",
            "Gender: Male\n",
            "ID: 3\n",
            "Balance: 9999744\n"
          ],
          "name": "stdout"
        }
      ]
    }
  ]
}