{
  "nbformat": 4,
  "nbformat_minor": 0,
  "metadata": {
    "colab": {
      "name": "Check Prime with Map.ipynb",
      "provenance": [],
      "authorship_tag": "ABX9TyP8b4IEP0qVWDbRcD1FM58D",
      "include_colab_link": true
    },
    "kernelspec": {
      "name": "python3",
      "display_name": "Python 3"
    },
    "language_info": {
      "name": "python"
    }
  },
  "cells": [
    {
      "cell_type": "markdown",
      "metadata": {
        "id": "view-in-github",
        "colab_type": "text"
      },
      "source": [
        "<a href=\"https://colab.research.google.com/github/ahmedynah/Epsilon-AI/blob/main/Check_Prime_with_Map.ipynb\" target=\"_parent\"><img src=\"https://colab.research.google.com/assets/colab-badge.svg\" alt=\"Open In Colab\"/></a>"
      ]
    },
    {
      "cell_type": "code",
      "metadata": {
        "id": "oo4AgNyV9uPD"
      },
      "source": [
        "#Bouns Question: Prime with map"
      ],
      "execution_count": 1,
      "outputs": []
    },
    {
      "cell_type": "markdown",
      "metadata": {
        "id": "vPv9jUUgDN2w"
      },
      "source": [
        "#Bouns Question: Prime with map"
      ]
    },
    {
      "cell_type": "code",
      "metadata": {
        "colab": {
          "base_uri": "https://localhost:8080/"
        },
        "id": "Q0MyMY1M9zPT",
        "outputId": "a6f311cf-38d6-4da0-b082-d4b1b76216aa"
      },
      "source": [
        "import math\n",
        "def prime(x):\n",
        "  for i in range(2, int(math.sqrt(x)) +1 ):\n",
        "    if(x % i == 0):\n",
        "      return f\"{x}, notprime\"\n",
        "      \n",
        "  return \"prime\"\n",
        "l = set(map(lambda j: prime(j) == \"prime\" and j, list(range(2, 101))))\n",
        "l.remove(False)\n",
        "print(l)\n",
        "# dir(set)"
      ],
      "execution_count": 23,
      "outputs": [
        {
          "output_type": "stream",
          "text": [
            "{2, 3, 5, 7, 11, 13, 17, 19, 23, 29, 31, 37, 41, 43, 47, 53, 59, 61, 67, 71, 73, 79, 83, 89, 97}\n"
          ],
          "name": "stdout"
        }
      ]
    },
    {
      "cell_type": "code",
      "metadata": {
        "id": "G6XiLwQN_Y-T"
      },
      "source": [
        ""
      ],
      "execution_count": null,
      "outputs": []
    }
  ]
}