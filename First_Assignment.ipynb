{
  "nbformat": 4,
  "nbformat_minor": 0,
  "metadata": {
    "colab": {
      "name": "First Assignment.ipynb",
      "provenance": [],
      "collapsed_sections": [
        "LmDbkJwUiBJD"
      ],
      "authorship_tag": "ABX9TyNJ/iAv99ZcrP4w8+eP7R21",
      "include_colab_link": true
    },
    "kernelspec": {
      "name": "python3",
      "display_name": "Python 3"
    },
    "language_info": {
      "name": "python"
    }
  },
  "cells": [
    {
      "cell_type": "markdown",
      "metadata": {
        "id": "view-in-github",
        "colab_type": "text"
      },
      "source": [
        "<a href=\"https://colab.research.google.com/github/ahmedynah/Epsilon-AI/blob/main/First_Assignment.ipynb\" target=\"_parent\"><img src=\"https://colab.research.google.com/assets/colab-badge.svg\" alt=\"Open In Colab\"/></a>"
      ]
    },
    {
      "cell_type": "markdown",
      "metadata": {
        "id": "Ve1Ec0LRhCb7"
      },
      "source": [
        "# First Assignment\n",
        ">>> ## **Objectives:** \n",
        ">>>>1. [x] take user input (width and height) to print area of rectangle\n",
        ">>>>>$y= x * z$, where **y** is *output*, **x** is *width*, **z** is *height*\n",
        ">>>>1. [x] Delay the ouput for 5 sec.\n",
        ">>>>1. [x] Print python version.\n",
        ">>>>1. [x] Answer the following Questions:\n",
        ">>>>> - What is  python library?\n",
        ">>>>> - Mention 5 libraries and their uses"
      ]
    },
    {
      "cell_type": "markdown",
      "metadata": {
        "id": "LmDbkJwUiBJD"
      },
      "source": [
        "## Code"
      ]
    },
    {
      "cell_type": "markdown",
      "metadata": {
        "id": "GP-qdWm2l_OU"
      },
      "source": [
        ">> #### Imports"
      ]
    },
    {
      "cell_type": "code",
      "metadata": {
        "id": "hnl2lfhVmbNe"
      },
      "source": [
        "from time import sleep, strftime\n",
        "import sys"
      ],
      "execution_count": 11,
      "outputs": []
    },
    {
      "cell_type": "markdown",
      "metadata": {
        "id": "7pcER20aoxmR"
      },
      "source": [
        ">> ### Logic"
      ]
    },
    {
      "cell_type": "code",
      "metadata": {
        "colab": {
          "base_uri": "https://localhost:8080/"
        },
        "id": "kB11Wp5GoD5y",
        "outputId": "4cb3bfdd-f74f-42b2-db06-0fdbf89e7318"
      },
      "source": [
        "width = float(input('Width = '))\n",
        "height = float(input('Height = '))\n",
        "sleep(5)\n",
        "print(f'area = {width * height}')"
      ],
      "execution_count": 8,
      "outputs": [
        {
          "output_type": "stream",
          "text": [
            "Width = 5.1\n",
            "Height = 5.2\n",
            "area = 26.52\n"
          ],
          "name": "stdout"
        }
      ]
    },
    {
      "cell_type": "code",
      "metadata": {
        "colab": {
          "base_uri": "https://localhost:8080/"
        },
        "id": "ka-ED73QuS9y",
        "outputId": "89c1f2c1-cea0-4a09-9ecc-20fa4be9ebbc"
      },
      "source": [
        "print(sys.version)"
      ],
      "execution_count": 13,
      "outputs": [
        {
          "output_type": "stream",
          "text": [
            "3.7.10 (default, May  3 2021, 02:48:31) \n",
            "[GCC 7.5.0]\n"
          ],
          "name": "stdout"
        }
      ]
    },
    {
      "cell_type": "markdown",
      "metadata": {
        "id": "V5wAAR7botS8"
      },
      "source": [
        ">> ## Questions"
      ]
    },
    {
      "cell_type": "markdown",
      "metadata": {
        "id": "SLFm68xVpGXy"
      },
      "source": [
        "* What is a library in python?\n",
        ">>A library is group of complex or simple functions grouped together in one or more files. Using libraries prevent reinventing the wheel and coding some functions that do the same job from scratch. Using libraries ensures reusabilty, security and many others aspects in software... To explain how it ensures security.. assume you already implemented some function that is already exist in some library... the possibilty of the function that you have created to be vulnrable to some exploits is much higher than the already made function... as by defulat such open source libraries are supported by large community that checks it reguraly.\n",
        "*Name 5 libraries and their use.\n",
        "\n",
        "\n",
        "  |Library name |Library use |\n",
        "    | :--: | :-- |\n",
        "  |***Pandas***| Pandas is primarily used for data analysis|\n",
        "  |***Numpy***|NumPy is mainly used for its support for N-dimensional arrays|\n",
        "  |***Sciki-learn***| cikit-learn is used to build machine learning models as it has tons of tools used for predictive modelling and analysis.|\n",
        "  |***Tensorflow***|TensorFlow is one of the most popular libraries of Python for implementing neural networks|\n",
        "  |***Keras***| Keras is mainly used for creating deep learning models, specifically neural networks|"
      ]
    }
  ]
}