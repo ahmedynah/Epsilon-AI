{
  "nbformat": 4,
  "nbformat_minor": 0,
  "metadata": {
    "colab": {
      "name": "Data Collecting and REST APIs.ipynb",
      "provenance": [],
      "authorship_tag": "ABX9TyPP5ICduXHc1M+cnz1BCvYU",
      "include_colab_link": true
    },
    "kernelspec": {
      "name": "python3",
      "display_name": "Python 3"
    },
    "language_info": {
      "name": "python"
    }
  },
  "cells": [
    {
      "cell_type": "markdown",
      "metadata": {
        "id": "view-in-github",
        "colab_type": "text"
      },
      "source": [
        "<a href=\"https://colab.research.google.com/github/ahmedynah/Epsilon-AI/blob/main/Data_Collecting_and_REST_APIs.ipynb\" target=\"_parent\"><img src=\"https://colab.research.google.com/assets/colab-badge.svg\" alt=\"Open In Colab\"/></a>"
      ]
    },
    {
      "cell_type": "markdown",
      "metadata": {
        "id": "DQHn03FB8nhv"
      },
      "source": [
        "#Task 1\n",
        "--------\n"
      ]
    },
    {
      "cell_type": "markdown",
      "metadata": {
        "id": "jxwcqXEa8zGw"
      },
      "source": [
        "####Get the USD To EUR Exchange rate from this web service\n",
        "###https://api.frankfurter.app/latest?amount=1&from=USD&to=EUR\n",
        "####and then use it to make a software that takes amount of USD Dollars from the user and calculate how much will it cost in EUR. \n",
        "#####hint: take a look on the url of the service can you guess how I can modify it to calculate the 10$ for EUR for example ?!\n"
      ]
    },
    {
      "cell_type": "code",
      "metadata": {
        "id": "UbproB7G8fvt"
      },
      "source": [
        "import requests"
      ],
      "execution_count": 1,
      "outputs": []
    },
    {
      "cell_type": "code",
      "metadata": {
        "colab": {
          "base_uri": "https://localhost:8080/"
        },
        "id": "DzxGTAAU9R1G",
        "outputId": "a8f902cf-a959-4796-ff6e-8e918c9c6937"
      },
      "source": [
        "usd_amount = float(input(\"How many USD to EUR do want to exchange? \"))"
      ],
      "execution_count": 3,
      "outputs": [
        {
          "name": "stdout",
          "output_type": "stream",
          "text": [
            "How many USD to EUR do want to exchange? 5\n"
          ]
        }
      ]
    },
    {
      "cell_type": "code",
      "metadata": {
        "colab": {
          "base_uri": "https://localhost:8080/"
        },
        "id": "mqNoV7Bt9MSJ",
        "outputId": "b8709cbc-f837-43db-ec87-947bac2f1cef"
      },
      "source": [
        "path = f\"https://api.frankfurter.app/latest?amount={usd_amount}&from=USD&to=EUR\"\n",
        "res = requests.get(path)\n",
        "data = res.json()['rates']\n",
        "print(f\"{usd_amount} USD = {data['EUR']} EUR\")"
      ],
      "execution_count": 9,
      "outputs": [
        {
          "output_type": "stream",
          "name": "stdout",
          "text": [
            "5.0 USD = 4.2226 EUR\n"
          ]
        }
      ]
    },
    {
      "cell_type": "markdown",
      "metadata": {
        "id": "2L3a3Vvf-qss"
      },
      "source": [
        "#Task 2\n",
        "---\n"
      ]
    },
    {
      "cell_type": "markdown",
      "metadata": {
        "id": "NcXtVlvP-yV0"
      },
      "source": [
        "####Use this web service\n",
        "####https://www.metaweather.com/api/location/1521894/\n",
        "####one time for 3 different days in this weekand make a program that get the weather temperature, humidity, visibility, air pressure, wind speed & datetime and save each day data in a CSV file."
      ]
    },
    {
      "cell_type": "code",
      "metadata": {
        "id": "lgBBgiyZ-uZq"
      },
      "source": [
        "import csv"
      ],
      "execution_count": 20,
      "outputs": []
    },
    {
      "cell_type": "code",
      "metadata": {
        "colab": {
          "base_uri": "https://localhost:8080/"
        },
        "id": "EDsr7MVsAW_h",
        "outputId": "f6ddec5f-9875-4b2d-8721-8a3d798efb92"
      },
      "source": [
        "res2 = requests.get(\"https://www.metaweather.com/api/location/1521894/\")\n",
        "data = res2.json()\n",
        "print(data['consolidated_weather'][0])"
      ],
      "execution_count": 21,
      "outputs": [
        {
          "output_type": "stream",
          "name": "stdout",
          "text": [
            "{'id': 6566334629412864, 'weather_state_name': 'Clear', 'weather_state_abbr': 'c', 'wind_direction_compass': 'NNW', 'created': '2021-09-10T22:34:25.779715Z', 'applicable_date': '2021-09-11', 'min_temp': 22.13, 'max_temp': 34.175, 'the_temp': 31.17, 'wind_speed': 8.051464469010313, 'wind_direction': 338.48884366644336, 'air_pressure': 1014.0, 'humidity': 44, 'visibility': 12.343538733794638, 'predictability': 68}\n"
          ]
        }
      ]
    },
    {
      "cell_type": "code",
      "metadata": {
        "id": "feV3IqAfAGv6"
      },
      "source": [
        "with open(\"weather.csv\", \"w+\", newline=\"\") as f:\n",
        "  writer = csv.DictWriter(f, fieldnames=[\"temperature\", \"humidity\", \"visibility\", \"air pressure\", \"wind speed\", \"date and time\"])\n",
        "  writer.writeheader()\n",
        "  for inst in data['consolidated_weather']:\n",
        "    writer.writerow({\"temperature\" : inst[\"the_temp\"] , \"humidity\" : inst[\"humidity\"], \"visibility\" : inst[\"visibility\"], \"air pressure\" : inst[\"air_pressure\"], \"wind speed\" : inst[\"wind_speed\"],\"date and time\": inst['created']})"
      ],
      "execution_count": 22,
      "outputs": []
    },
    {
      "cell_type": "markdown",
      "metadata": {
        "id": "YlApI0dsD-vr"
      },
      "source": [
        "#Task 3\n",
        "-----"
      ]
    },
    {
      "cell_type": "markdown",
      "metadata": {
        "id": "ueDQCFv-ECCX"
      },
      "source": [
        "####Use this web service\n",
        "####https://restcountries.eu/rest/v2/all\n",
        "#### and make a program that get all countries data including name, alpha3Code, area, region, population, main currency, main language and then save them in a CSV file."
      ]
    },
    {
      "cell_type": "code",
      "metadata": {
        "colab": {
          "base_uri": "https://localhost:8080/"
        },
        "id": "QH6wxn4xEBaM",
        "outputId": "19140433-e1b9-4ab4-eddd-9b791d19c27a"
      },
      "source": [
        "res3 = requests.get(\"https://restcountries.eu/rest/v2/all\")\n",
        "data3 = res3.json()\n",
        "print(data3[0].keys())"
      ],
      "execution_count": 28,
      "outputs": [
        {
          "output_type": "stream",
          "name": "stdout",
          "text": [
            "dict_keys(['name', 'topLevelDomain', 'alpha2Code', 'alpha3Code', 'callingCodes', 'capital', 'altSpellings', 'region', 'subregion', 'population', 'latlng', 'demonym', 'area', 'gini', 'timezones', 'borders', 'nativeName', 'numericCode', 'currencies', 'languages', 'translations', 'flag', 'regionalBlocs', 'cioc'])\n"
          ]
        }
      ]
    },
    {
      "cell_type": "code",
      "metadata": {
        "id": "No7EnI_UFBhk"
      },
      "source": [
        "with open(\"countries.csv\", \"w+\", newline=\"\") as ff:\n",
        "  writer = csv.DictWriter(ff, fieldnames=[\"name\", \"alpha3Code\", \"area\", \"region\", \"population\", \"main currency\", \"main language\"])\n",
        "  writer.writeheader()\n",
        "  for country in data3:\n",
        "    writer.writerow({\"name\" : country[\"name\"] , \"alpha3Code\" : country[\"alpha3Code\"], \"area\" : country[\"area\"], \"region\" : country[\"region\"], \"population\" : country[\"population\"],\"main currency\": country['currencies'][0]['name'], \"main language\": country[\"languages\"][0]['name']})"
      ],
      "execution_count": 31,
      "outputs": []
    },
    {
      "cell_type": "code",
      "metadata": {
        "id": "e0_5V8JUHaJH"
      },
      "source": [
        ""
      ],
      "execution_count": 31,
      "outputs": []
    }
  ]
}