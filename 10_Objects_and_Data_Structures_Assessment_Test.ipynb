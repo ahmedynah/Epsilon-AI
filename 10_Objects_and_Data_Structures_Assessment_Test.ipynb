{
  "nbformat": 4,
  "nbformat_minor": 0,
  "metadata": {
    "anaconda-cloud": {},
    "kernelspec": {
      "display_name": "Python 3",
      "language": "python",
      "name": "python3"
    },
    "language_info": {
      "codemirror_mode": {
        "name": "ipython",
        "version": 3
      },
      "file_extension": ".py",
      "mimetype": "text/x-python",
      "name": "python",
      "nbconvert_exporter": "python",
      "pygments_lexer": "ipython3",
      "version": "3.8.5"
    },
    "colab": {
      "name": "10-Objects and Data Structures Assessment Test.ipynb",
      "provenance": [],
      "include_colab_link": true
    }
  },
  "cells": [
    {
      "cell_type": "markdown",
      "metadata": {
        "id": "view-in-github",
        "colab_type": "text"
      },
      "source": [
        "<a href=\"https://colab.research.google.com/github/ahmedynah/Epsilon-AI/blob/main/10_Objects_and_Data_Structures_Assessment_Test.ipynb\" target=\"_parent\"><img src=\"https://colab.research.google.com/assets/colab-badge.svg\" alt=\"Open In Colab\"/></a>"
      ]
    },
    {
      "cell_type": "markdown",
      "metadata": {
        "id": "ErbDwlIUpg2u"
      },
      "source": [
        "# Objects and Data Structures Assessment Test"
      ]
    },
    {
      "cell_type": "markdown",
      "metadata": {
        "collapsed": true,
        "id": "aFAGPhohpg2v"
      },
      "source": [
        "## Test your knowledge. \n",
        "\n",
        "**Answer the following questions**"
      ]
    },
    {
      "cell_type": "markdown",
      "metadata": {
        "collapsed": true,
        "id": "1yFDNZ75pg2w"
      },
      "source": [
        "Write a brief description of all the following Object Types and Data Structures we've learned about: "
      ]
    },
    {
      "cell_type": "markdown",
      "metadata": {
        "id": "1tqnq6RQpg2w"
      },
      "source": [
        "Numbers: there are 3 different types of numbers in python... integers, floating-point numbers, and complex number\n",
        "\n",
        "Strings: once created, it can not be tampered ( you can't delete a chracter from the string)\n",
        "\n",
        "Lists: mutable data structure.. can hold different kind of data structures.. can be accessed by integer indexs\n",
        "\n",
        "Tuples: immutable data structure ... can contain any different types of data ... faster than lists as the tuple implmentation is much quicker\n",
        "\n",
        "Dictionaries: a pair of key and value data structure that each key is representing certain value... keys are also used as indexs... dictionaries themselves are mutable so that keys and values can be added, however keys themselves are immutable.\n"
      ]
    },
    {
      "cell_type": "markdown",
      "metadata": {
        "id": "8nhX_lBZpg2w"
      },
      "source": [
        "## Numbers\n",
        "\n",
        "Write an equation that uses multiplication, division, an exponent, addition, and subtraction that is equal to 100.25.\n",
        "\n",
        "Hint: This is just to test your memory of the basic arithmetic commands, work backwards from 100.25"
      ]
    },
    {
      "cell_type": "code",
      "metadata": {
        "id": "x2E_TnEDpg2x",
        "outputId": "91c9f85d-9294-4cd0-ad67-96b1f2612961",
        "colab": {
          "base_uri": "https://localhost:8080/"
        }
      },
      "source": [
        "ans = (10 ** 3 / 100) * 10 + 1 - 0.75\n",
        "ans  "
      ],
      "execution_count": 1,
      "outputs": [
        {
          "output_type": "execute_result",
          "data": {
            "text/plain": [
              "100.25"
            ]
          },
          "metadata": {
            "tags": []
          },
          "execution_count": 1
        }
      ]
    },
    {
      "cell_type": "markdown",
      "metadata": {
        "id": "Hyj3Z1lCpg2x"
      },
      "source": [
        "Answer these 3 questions without typing code. Then type code to check your answer.\n",
        "\n",
        "    What is the value of the expression 4 * (6 + 5)? 44\n",
        "    \n",
        "    What is the value of the expression 4 * 6 + 5 ? 29\n",
        "    \n",
        "    What is the value of the expression 4 + 6 * 5 ? 34"
      ]
    },
    {
      "cell_type": "code",
      "metadata": {
        "id": "Ma5J_P1cpg2y",
        "outputId": "acea6869-451c-452d-fedc-a541b94ecc02",
        "colab": {
          "base_uri": "https://localhost:8080/"
        }
      },
      "source": [
        "print(4 * (6 + 5),\" \",4 * 6 + 5,\" \",4 + 6 * 5 )\n"
      ],
      "execution_count": 3,
      "outputs": [
        {
          "output_type": "stream",
          "text": [
            "44   29   34\n"
          ],
          "name": "stdout"
        },
        {
          "output_type": "execute_result",
          "data": {
            "text/plain": [
              "float"
            ]
          },
          "metadata": {
            "tags": []
          },
          "execution_count": 3
        }
      ]
    },
    {
      "cell_type": "markdown",
      "metadata": {
        "id": "e3QwIreipg2y"
      },
      "source": [
        "What is the *type* of the result of the expression 3 + 1.5 + 4?<br><br>float"
      ]
    },
    {
      "cell_type": "markdown",
      "metadata": {
        "id": "aax7ox-cpg2y"
      },
      "source": [
        "What would you use to find a number’s square root, as well as its square? "
      ]
    },
    {
      "cell_type": "code",
      "metadata": {
        "id": "j15NkmoHpg2y",
        "outputId": "4d35b63d-768b-4dea-9e77-d4d89325a54b",
        "colab": {
          "base_uri": "https://localhost:8080/"
        }
      },
      "source": [
        "# Square root:\n",
        "import math \n",
        "x = int(input())\n",
        "print(x**0.5)\n",
        "print(math.sqrt(x))\n"
      ],
      "execution_count": 1,
      "outputs": [
        {
          "output_type": "stream",
          "text": [
            "100\n",
            "10.0\n",
            "10.0\n"
          ],
          "name": "stdout"
        }
      ]
    },
    {
      "cell_type": "code",
      "metadata": {
        "id": "Qx4GJ-lxpg2z",
        "outputId": "ced071fd-edba-43fb-c19c-69978ec2a875",
        "colab": {
          "base_uri": "https://localhost:8080/"
        }
      },
      "source": [
        "# Square:\n",
        "x = int(input())\n",
        "print(x**2)\n",
        "print(math.pow(x,2))"
      ],
      "execution_count": 8,
      "outputs": [
        {
          "output_type": "stream",
          "text": [
            "10\n",
            "100\n",
            "100.0\n"
          ],
          "name": "stdout"
        }
      ]
    },
    {
      "cell_type": "markdown",
      "metadata": {
        "id": "EQWnqUQhpg2z"
      },
      "source": [
        "## Strings"
      ]
    },
    {
      "cell_type": "markdown",
      "metadata": {
        "id": "v0pXLmU4pg2z"
      },
      "source": [
        "Given the string 'hello' give an index command that returns 'e'. Enter your code in the cell below:"
      ]
    },
    {
      "cell_type": "code",
      "metadata": {
        "id": "dmi0vl7Vpg2z",
        "outputId": "c3e9ee1f-7d09-428f-cf87-587a8c039495",
        "colab": {
          "base_uri": "https://localhost:8080/"
        }
      },
      "source": [
        "s = 'hello'\n",
        "# Print out 'e' using indexing\n",
        "print(s[1])\n"
      ],
      "execution_count": 2,
      "outputs": [
        {
          "output_type": "stream",
          "text": [
            "e\n"
          ],
          "name": "stdout"
        }
      ]
    },
    {
      "cell_type": "markdown",
      "metadata": {
        "id": "bpyiZetupg2z"
      },
      "source": [
        "Reverse the string 'hello' using slicing: \n",
        "#Very important note about slicing"
      ]
    },
    {
      "cell_type": "code",
      "metadata": {
        "id": "HDaCkr5vpg20",
        "outputId": "354079e4-d3cf-49b7-eca2-afd9deba30d1",
        "colab": {
          "base_uri": "https://localhost:8080/"
        }
      },
      "source": [
        "s ='hello'\n",
        "# Reverse the string using slicing\n",
        "\n",
        "print(s[::-1])"
      ],
      "execution_count": 15,
      "outputs": [
        {
          "output_type": "stream",
          "text": [
            "olleh\n"
          ],
          "name": "stdout"
        }
      ]
    },
    {
      "cell_type": "markdown",
      "metadata": {
        "id": "JB2ZZ16tpg20"
      },
      "source": [
        "Given the string hello, give two methods of producing the letter 'o' using indexing."
      ]
    },
    {
      "cell_type": "code",
      "metadata": {
        "id": "KeLJPrSUpg20",
        "outputId": "ad5bba9a-fa71-4187-840f-ac3b72240e17",
        "colab": {
          "base_uri": "https://localhost:8080/"
        }
      },
      "source": [
        "s ='hello'\n",
        "# Print out the 'o'\n",
        "# Method 1:\n",
        "print(s[-1])\n"
      ],
      "execution_count": 16,
      "outputs": [
        {
          "output_type": "stream",
          "text": [
            "o\n"
          ],
          "name": "stdout"
        }
      ]
    },
    {
      "cell_type": "code",
      "metadata": {
        "id": "L5rubOw0pg20",
        "outputId": "63ecf7c5-d8cc-4517-f5e7-3f1c926b9bee",
        "colab": {
          "base_uri": "https://localhost:8080/"
        }
      },
      "source": [
        "# Method 2:\n",
        "print(s[len(s)-1])\n"
      ],
      "execution_count": 17,
      "outputs": [
        {
          "output_type": "stream",
          "text": [
            "o\n"
          ],
          "name": "stdout"
        }
      ]
    },
    {
      "cell_type": "markdown",
      "metadata": {
        "id": "-Hc4uRaJpg20"
      },
      "source": [
        "## Lists"
      ]
    },
    {
      "cell_type": "markdown",
      "metadata": {
        "id": "qQikeXbnpg20"
      },
      "source": [
        "Build this list [0,0,0] two separate ways.\n",
        "#Note about list and how it works with operators"
      ]
    },
    {
      "cell_type": "code",
      "metadata": {
        "id": "gvXMlFMRpg20",
        "outputId": "b91c3a46-b7c7-4e66-8148-e8916bdb4819",
        "colab": {
          "base_uri": "https://localhost:8080/"
        }
      },
      "source": [
        "# Method 1:\n",
        "l = []\n",
        "l.extend([0,0,0])\n",
        "l\n"
      ],
      "execution_count": 18,
      "outputs": [
        {
          "output_type": "execute_result",
          "data": {
            "text/plain": [
              "[0, 0, 0]"
            ]
          },
          "metadata": {
            "tags": []
          },
          "execution_count": 18
        }
      ]
    },
    {
      "cell_type": "code",
      "metadata": {
        "id": "ElLXZZsxpg21",
        "outputId": "31612722-3297-4222-e9b5-bedddbf25d9d",
        "colab": {
          "base_uri": "https://localhost:8080/"
        }
      },
      "source": [
        "# Method 2:\n",
        "l.clear()\n",
        "print(l)\n",
        "l=[0 for i in range(3)]\n",
        "print(l)\n",
        "l.clear()\n",
        "print(l)\n",
        "l = [0]*3\n",
        "print(l)"
      ],
      "execution_count": 24,
      "outputs": [
        {
          "output_type": "stream",
          "text": [
            "[]\n",
            "[0, 0, 0]\n",
            "[]\n",
            "[0, 0, 0]\n"
          ],
          "name": "stdout"
        }
      ]
    },
    {
      "cell_type": "markdown",
      "metadata": {
        "id": "QWRnp4CHpg21"
      },
      "source": [
        "Reassign 'hello' in this nested list to say 'goodbye' instead:"
      ]
    },
    {
      "cell_type": "code",
      "metadata": {
        "id": "uFeXqa4Dpg21",
        "outputId": "51572dd0-e701-40dd-c5a6-130f620eb1c4",
        "colab": {
          "base_uri": "https://localhost:8080/"
        }
      },
      "source": [
        "list3 = [1,2,[3,4,'hello']]\n",
        "\n",
        "list3[2][2] = \"goodbye\"\n",
        "list3"
      ],
      "execution_count": 26,
      "outputs": [
        {
          "output_type": "execute_result",
          "data": {
            "text/plain": [
              "[1, 2, [3, 4, 'goodbye']]"
            ]
          },
          "metadata": {
            "tags": []
          },
          "execution_count": 26
        }
      ]
    },
    {
      "cell_type": "markdown",
      "metadata": {
        "id": "Gy_BPFxxpg21"
      },
      "source": [
        "Sort the list below:"
      ]
    },
    {
      "cell_type": "code",
      "metadata": {
        "id": "tPzSSIx6pg21",
        "outputId": "8b1a5825-6858-45a0-d84e-edb825c563f6",
        "colab": {
          "base_uri": "https://localhost:8080/"
        }
      },
      "source": [
        "list4 = [5,3,4,6,1]\n",
        "list4.sort()\n",
        "print(f\"sorted ascendingly: {list4}\")\n",
        "print(f\"sorted descendingly: {list4[::-1]}\")\n",
        "list4.reverse()\n",
        "print(f\"sorted descendingly: {list4}\")"
      ],
      "execution_count": 30,
      "outputs": [
        {
          "output_type": "stream",
          "text": [
            "sorted ascendingly: [1, 3, 4, 5, 6]\n",
            "sorted descendingly: [6, 5, 4, 3, 1]\n",
            "sorted descendingly: [6, 5, 4, 3, 1]\n"
          ],
          "name": "stdout"
        }
      ]
    },
    {
      "cell_type": "markdown",
      "metadata": {
        "id": "OeCB639Gpg21"
      },
      "source": [
        "## Dictionaries"
      ]
    },
    {
      "cell_type": "markdown",
      "metadata": {
        "id": "ex9z9MXTpg21"
      },
      "source": [
        "Using keys and indexing, grab the 'hello' from the following dictionaries:"
      ]
    },
    {
      "cell_type": "code",
      "metadata": {
        "id": "CyzMbBm0pg21",
        "outputId": "ba5a1f40-1339-4fb4-eead-9ee301704a13",
        "colab": {
          "base_uri": "https://localhost:8080/"
        }
      },
      "source": [
        "d = {'simple_key':'hello'}\n",
        "# Grab 'hello'\n",
        "print(d['simple_key'])"
      ],
      "execution_count": 31,
      "outputs": [
        {
          "output_type": "stream",
          "text": [
            "hello\n"
          ],
          "name": "stdout"
        }
      ]
    },
    {
      "cell_type": "code",
      "metadata": {
        "id": "tFmb0NUmpg22",
        "outputId": "44cfd2bb-741f-440a-c804-9b24bb1847a9",
        "colab": {
          "base_uri": "https://localhost:8080/"
        }
      },
      "source": [
        "d = {'k1':{'k2':'hello'}}\n",
        "# Grab 'hello'\n",
        "print(d['k1']['k2'])"
      ],
      "execution_count": 32,
      "outputs": [
        {
          "output_type": "stream",
          "text": [
            "hello\n"
          ],
          "name": "stdout"
        }
      ]
    },
    {
      "cell_type": "code",
      "metadata": {
        "id": "-ex5v0utpg22",
        "outputId": "0c061710-621f-46e8-ba62-a4ac072c0e18",
        "colab": {
          "base_uri": "https://localhost:8080/"
        }
      },
      "source": [
        "# Getting a little tricker\n",
        "d = {'k1':[{'nest_key':['this is deep',['hello']]}]}\n",
        "\n",
        "#Grab hello\n",
        "print(d['k1'][0]['nest_key'][1][0])"
      ],
      "execution_count": 34,
      "outputs": [
        {
          "output_type": "stream",
          "text": [
            "hello\n"
          ],
          "name": "stdout"
        }
      ]
    },
    {
      "cell_type": "code",
      "metadata": {
        "id": "pvUwL00cpg22",
        "outputId": "bdb2eda6-c0e9-4224-c535-7d7523587526",
        "colab": {
          "base_uri": "https://localhost:8080/"
        }
      },
      "source": [
        "# This will be hard and annoying!\n",
        "d = {'k1':[1,2,{'k2':['this is tricky',{'tough':[1,2,['hello']]}]}]}\n",
        "print(d['k1'][2]['k2'][1]['tough'][2][0])"
      ],
      "execution_count": 35,
      "outputs": [
        {
          "output_type": "stream",
          "text": [
            "hello\n"
          ],
          "name": "stdout"
        }
      ]
    },
    {
      "cell_type": "markdown",
      "metadata": {
        "id": "pUawIM9epg22"
      },
      "source": [
        "Can you sort a dictionary? Why or why not?<br><br>\n",
        "yes.. keys can be sorted by keys or by values using the built in function sorted()see the link below: https://www.geeksforgeeks.org/python-sort-python-dictionaries-by-key-or-value/"
      ]
    },
    {
      "cell_type": "markdown",
      "metadata": {
        "id": "VQBiItXRpg22"
      },
      "source": [
        "## Tuples"
      ]
    },
    {
      "cell_type": "markdown",
      "metadata": {
        "id": "t_EQza2Gpg23"
      },
      "source": [
        "What is the major difference between tuples and lists?<br><br>\n",
        "tubles are immutable whereas lists are not"
      ]
    },
    {
      "cell_type": "markdown",
      "metadata": {
        "id": "0nMcdcGGpg23"
      },
      "source": [
        "How do you create a tuple?<br><br>\n",
        "using peranthis ---> ()"
      ]
    },
    {
      "cell_type": "markdown",
      "metadata": {
        "id": "np62efplpg23"
      },
      "source": [
        "## Sets "
      ]
    },
    {
      "cell_type": "markdown",
      "metadata": {
        "id": "S2hPCCchpg23"
      },
      "source": [
        "What is unique about a set?<br><br>\n",
        "no repeated elements, and immutable"
      ]
    },
    {
      "cell_type": "markdown",
      "metadata": {
        "id": "PrS8jle9pg23"
      },
      "source": [
        "Use a set to find the unique values of the list below:"
      ]
    },
    {
      "cell_type": "code",
      "metadata": {
        "id": "F8SADIfWpg23",
        "outputId": "5816b685-3a6b-40e4-eb16-0d7bf5adab57",
        "colab": {
          "base_uri": "https://localhost:8080/"
        }
      },
      "source": [
        "list5 = [1,2,2,33,4,4,11,22,3,3,2]\n",
        "set1 = set(list5)\n",
        "print(set1)\n"
      ],
      "execution_count": 38,
      "outputs": [
        {
          "output_type": "stream",
          "text": [
            "{1, 2, 33, 4, 3, 11, 22}\n"
          ],
          "name": "stdout"
        }
      ]
    },
    {
      "cell_type": "markdown",
      "metadata": {
        "id": "VP5nk7MOpg23"
      },
      "source": [
        "## Booleans"
      ]
    },
    {
      "cell_type": "markdown",
      "metadata": {
        "id": "sj_40WnYpg23"
      },
      "source": [
        "For the following quiz questions, we will get a preview of comparison operators. In the table below, a=3 and b=4.\n",
        "\n",
        "<table class=\"table table-bordered\">\n",
        "<tr>\n",
        "<th style=\"width:10%\">Operator</th><th style=\"width:45%\">Description</th><th>Example</th>\n",
        "</tr>\n",
        "<tr>\n",
        "<td>==</td>\n",
        "<td>If the values of two operands are equal, then the condition becomes true.</td>\n",
        "<td> (a == b) is not true.</td>\n",
        "</tr>\n",
        "<tr>\n",
        "<td>!=</td>\n",
        "<td>If values of two operands are not equal, then condition becomes true.</td>\n",
        "<td> (a != b) is true.</td>\n",
        "</tr>\n",
        "<tr>\n",
        "<td>&gt;</td>\n",
        "<td>If the value of left operand is greater than the value of right operand, then condition becomes true.</td>\n",
        "<td> (a &gt; b) is not true.</td>\n",
        "</tr>\n",
        "<tr>\n",
        "<td>&lt;</td>\n",
        "<td>If the value of left operand is less than the value of right operand, then condition becomes true.</td>\n",
        "<td> (a &lt; b) is true.</td>\n",
        "</tr>\n",
        "<tr>\n",
        "<td>&gt;=</td>\n",
        "<td>If the value of left operand is greater than or equal to the value of right operand, then condition becomes true.</td>\n",
        "<td> (a &gt;= b) is not true. </td>\n",
        "</tr>\n",
        "<tr>\n",
        "<td>&lt;=</td>\n",
        "<td>If the value of left operand is less than or equal to the value of right operand, then condition becomes true.</td>\n",
        "<td> (a &lt;= b) is true. </td>\n",
        "</tr>\n",
        "</table>"
      ]
    },
    {
      "cell_type": "markdown",
      "metadata": {
        "id": "6LwMfnuWpg24"
      },
      "source": [
        "What will be the resulting Boolean of the following pieces of code (answer fist then check by typing it in!)"
      ]
    },
    {
      "cell_type": "code",
      "metadata": {
        "id": "sZFc_UQapg24",
        "outputId": "12a9e97e-a4d0-4607-d8b2-4a6d5ad24b4a",
        "colab": {
          "base_uri": "https://localhost:8080/"
        }
      },
      "source": [
        "# Answer before running cell\n",
        "2 > 3\n",
        "#False"
      ],
      "execution_count": 39,
      "outputs": [
        {
          "output_type": "execute_result",
          "data": {
            "text/plain": [
              "False"
            ]
          },
          "metadata": {
            "tags": []
          },
          "execution_count": 39
        }
      ]
    },
    {
      "cell_type": "code",
      "metadata": {
        "id": "uhasUQzPpg24",
        "outputId": "832ce1e8-1849-4d06-cbb1-f0a9e83abda7",
        "colab": {
          "base_uri": "https://localhost:8080/"
        }
      },
      "source": [
        "# Answer before running cell\n",
        "3 <= 2\n",
        "#False"
      ],
      "execution_count": 41,
      "outputs": [
        {
          "output_type": "execute_result",
          "data": {
            "text/plain": [
              "False"
            ]
          },
          "metadata": {
            "tags": []
          },
          "execution_count": 41
        }
      ]
    },
    {
      "cell_type": "code",
      "metadata": {
        "id": "yhcp77KIpg24",
        "outputId": "b4db17c1-8fe0-4202-aeef-d1f37dfaf233",
        "colab": {
          "base_uri": "https://localhost:8080/"
        }
      },
      "source": [
        "# Answer before running cell\n",
        "3 == 2.0\n",
        "#False"
      ],
      "execution_count": 42,
      "outputs": [
        {
          "output_type": "execute_result",
          "data": {
            "text/plain": [
              "False"
            ]
          },
          "metadata": {
            "tags": []
          },
          "execution_count": 42
        }
      ]
    },
    {
      "cell_type": "code",
      "metadata": {
        "id": "-_ZkhS6Apg24",
        "outputId": "36c11de0-36a1-405f-b93a-563bd1ba808e",
        "colab": {
          "base_uri": "https://localhost:8080/"
        }
      },
      "source": [
        "# Answer before running cell\n",
        "3.0 == 3\n",
        "#True"
      ],
      "execution_count": 45,
      "outputs": [
        {
          "output_type": "execute_result",
          "data": {
            "text/plain": [
              "True"
            ]
          },
          "metadata": {
            "tags": []
          },
          "execution_count": 45
        }
      ]
    },
    {
      "cell_type": "code",
      "metadata": {
        "id": "mlA95PLypg24",
        "outputId": "a2d2e599-95a0-45d3-83ec-3cc83b191591",
        "colab": {
          "base_uri": "https://localhost:8080/"
        }
      },
      "source": [
        "# Answer before running cell\n",
        "4**0.5 != 2\n",
        "#False"
      ],
      "execution_count": 46,
      "outputs": [
        {
          "output_type": "execute_result",
          "data": {
            "text/plain": [
              "False"
            ]
          },
          "metadata": {
            "tags": []
          },
          "execution_count": 46
        }
      ]
    },
    {
      "cell_type": "markdown",
      "metadata": {
        "id": "gucNcZDxpg25"
      },
      "source": [
        "Final Question: What is the boolean output of the cell block below?"
      ]
    },
    {
      "cell_type": "code",
      "metadata": {
        "id": "hyNwQe4qpg25",
        "outputId": "802f5401-ae3e-4537-e984-c64f5eebb89f",
        "colab": {
          "base_uri": "https://localhost:8080/"
        }
      },
      "source": [
        "# two nested lists\n",
        "l_one = [1,2,[3,4]]\n",
        "l_two = [1,2,{'k1':4}]\n",
        "\n",
        "# True or False?\n",
        "l_one[2][0] >= l_two[2]['k1']\n",
        "#false"
      ],
      "execution_count": 49,
      "outputs": [
        {
          "output_type": "execute_result",
          "data": {
            "text/plain": [
              "False"
            ]
          },
          "metadata": {
            "tags": []
          },
          "execution_count": 49
        }
      ]
    },
    {
      "cell_type": "markdown",
      "metadata": {
        "id": "VTq9lw_Vpg25"
      },
      "source": [
        "# Great Work!"
      ]
    }
  ]
}