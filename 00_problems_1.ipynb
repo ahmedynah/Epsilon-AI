{
  "nbformat": 4,
  "nbformat_minor": 0,
  "metadata": {
    "kernelspec": {
      "display_name": "Python 3",
      "language": "python",
      "name": "python3"
    },
    "language_info": {
      "codemirror_mode": {
        "name": "ipython",
        "version": 3
      },
      "file_extension": ".py",
      "mimetype": "text/x-python",
      "name": "python",
      "nbconvert_exporter": "python",
      "pygments_lexer": "ipython3",
      "version": "3.8.5"
    },
    "colab": {
      "name": "00-problems-1.ipynb",
      "provenance": [],
      "include_colab_link": true
    }
  },
  "cells": [
    {
      "cell_type": "markdown",
      "metadata": {
        "id": "view-in-github",
        "colab_type": "text"
      },
      "source": [
        "<a href=\"https://colab.research.google.com/github/ahmedynah/Epsilon-AI/blob/main/00_problems_1.ipynb\" target=\"_parent\"><img src=\"https://colab.research.google.com/assets/colab-badge.svg\" alt=\"Open In Colab\"/></a>"
      ]
    },
    {
      "cell_type": "markdown",
      "metadata": {
        "id": "h4iPer0ckzfR"
      },
      "source": [
        "## 2 Write a Python program to get the Python version you are using.\n",
        "\n"
      ]
    },
    {
      "cell_type": "code",
      "metadata": {
        "id": "kdlmbq46kzfT",
        "outputId": "4a49cd72-ff72-4e0b-8e8c-b1e67d64c16c",
        "colab": {
          "base_uri": "https://localhost:8080/"
        }
      },
      "source": [
        "import sys\n",
        "print(\"Python version\")\n",
        "# answer here\n",
        "print(sys.version)\n",
        "print(\"Version info.\")\n",
        "# answer here\n",
        "print(sys.version_info)\n"
      ],
      "execution_count": 3,
      "outputs": [
        {
          "output_type": "stream",
          "text": [
            "Python version\n",
            "3.7.11 (default, Jul  3 2021, 18:01:19) \n",
            "[GCC 7.5.0]\n",
            "Version info.\n",
            "sys.version_info(major=3, minor=7, micro=11, releaselevel='final', serial=0)\n"
          ],
          "name": "stdout"
        }
      ]
    },
    {
      "cell_type": "markdown",
      "metadata": {
        "id": "g9tcNJd9kzfT"
      },
      "source": [
        "## 3 Write a Python program to display the current date and time.\n",
        "\n"
      ]
    },
    {
      "cell_type": "code",
      "metadata": {
        "id": "SafW-ikAkzfU",
        "outputId": "2f0520e5-ae9a-4243-a736-9eec135e4d3a",
        "colab": {
          "base_uri": "https://localhost:8080/"
        }
      },
      "source": [
        "import datetime\n",
        "\n",
        "print('The current time is :')\n",
        "# answer here\n",
        "print(datetime.datetime.now().time())"
      ],
      "execution_count": 18,
      "outputs": [
        {
          "output_type": "stream",
          "text": [
            "The current time is :\n",
            "20:46:44.450322\n"
          ],
          "name": "stdout"
        }
      ]
    },
    {
      "cell_type": "markdown",
      "metadata": {
        "id": "AIcQ6v0kkzfU"
      },
      "source": [
        "## 4 Write a Python program which accepts the radius of a circle from the user and compute the area.\n",
        "\n"
      ]
    },
    {
      "cell_type": "code",
      "metadata": {
        "id": "xnqGbEnwkzfU",
        "outputId": "122937b2-66b0-4e24-a9d4-5d68d247a8f8",
        "colab": {
          "base_uri": "https://localhost:8080/"
        }
      },
      "source": [
        "from math import pi\n",
        "#can you figer out how to use the pi imported from math library ?\n",
        "r = float(input('enter the radius:'))\n",
        "# answer here\n",
        "print(f\"The area of the circle with radius {r} is {pi*r**2}\")"
      ],
      "execution_count": 19,
      "outputs": [
        {
          "output_type": "stream",
          "text": [
            "enter the radius:89\n",
            "The area of the circle with radius 89.0 is 24884.55540908475\n"
          ],
          "name": "stdout"
        }
      ]
    },
    {
      "cell_type": "markdown",
      "metadata": {
        "id": "AvALBi4dkzfV"
      },
      "source": [
        "## 5 Write a Python program which accepts the user's first and last name and print them in reverse order with a space between them.\n",
        "\n"
      ]
    },
    {
      "cell_type": "code",
      "metadata": {
        "id": "kFyQrwnhkzfV",
        "outputId": "9c210f0d-ca7f-4e44-b9a6-3afc623c4b32",
        "colab": {
          "base_uri": "https://localhost:8080/"
        }
      },
      "source": [
        "fname = input('enter your first name :')\n",
        "sname = input('enter your second name :')\n",
        "# answer here Note you may want use .format method here is a hint:\n",
        "v1=1\n",
        "v2=2\n",
        "print(\"variable1 will print here{} vaiable2 will print here{}\".format(v1,v2)) \n",
        "print(\"{1} {0}\".format(fname,sname))"
      ],
      "execution_count": 21,
      "outputs": [
        {
          "output_type": "stream",
          "text": [
            "enter your first name :koko\n",
            "enter your second name :elda3eef\n",
            "variable1 will print here1 vaiable2 will print here2\n",
            "elda3eef koko\n"
          ],
          "name": "stdout"
        }
      ]
    },
    {
      "cell_type": "code",
      "metadata": {
        "id": "aqtNMiAsRyWk"
      },
      "source": [
        ""
      ],
      "execution_count": null,
      "outputs": []
    },
    {
      "cell_type": "markdown",
      "metadata": {
        "id": "75nB1raHkzfV"
      },
      "source": [
        "## 6 Write a Python program which accepts a sequence of comma-separated numbers from user and generate a list and a tuple with those numbers.\n",
        "\n"
      ]
    },
    {
      "cell_type": "code",
      "metadata": {
        "id": "ffUR_UIjkzfV",
        "outputId": "78a6dee2-5254-4238-fc9c-7edc1c5b6534",
        "colab": {
          "base_uri": "https://localhost:8080/"
        }
      },
      "source": [
        "values = input('enter different numbers :')\n",
        "\"\"\"\n",
        "note .split method will take the user input and create a list of all the\n",
        "values separated by comma Try it out !!\n",
        "\"\"\"\n",
        "# answer here\n",
        "l = values.split(',') \n",
        "t = tuple(l)\n",
        "print(t,l)"
      ],
      "execution_count": 22,
      "outputs": [
        {
          "output_type": "stream",
          "text": [
            "enter different numbers :1,2,3,4,5,6,7\n",
            "('1', '2', '3', '4', '5', '6', '7') ['1', '2', '3', '4', '5', '6', '7']\n"
          ],
          "name": "stdout"
        }
      ]
    },
    {
      "cell_type": "markdown",
      "metadata": {
        "id": "julJNPObkzfW"
      },
      "source": [
        "## note the following technique and study it will "
      ]
    },
    {
      "cell_type": "code",
      "metadata": {
        "id": "kZhWM4ilkzfW",
        "outputId": "fd46cd4a-d4bb-472f-849a-8a8301c4f190",
        "colab": {
          "base_uri": "https://localhost:8080/"
        }
      },
      "source": [
        "seq=input(\"Enter numbers separated by commas:\").split(\",\")\n",
        "print(\"List: {}\\nTuple: {}\".format(seq,tuple(seq)))"
      ],
      "execution_count": 23,
      "outputs": [
        {
          "output_type": "stream",
          "text": [
            "Enter numbers separated by commas:1,2,3,4,5,6,7\n",
            "List: ['1', '2', '3', '4', '5', '6', '7']\n",
            "Tuple: ('1', '2', '3', '4', '5', '6', '7')\n"
          ],
          "name": "stdout"
        }
      ]
    },
    {
      "cell_type": "markdown",
      "metadata": {
        "id": "AHsRQIGJkzfW"
      },
      "source": [
        "## 7 Write a Python program to accept a filename from the user and print the extension of that.\n",
        "\n"
      ]
    },
    {
      "cell_type": "code",
      "metadata": {
        "id": "BIaucsbFkzfW",
        "outputId": "75feed1f-d00e-4f01-9402-f8c12090fc45",
        "colab": {
          "base_uri": "https://localhost:8080/"
        }
      },
      "source": [
        "fn=(input(\"\")).split(\".\")\n",
        "#fn is now a list can you print only the extension\n",
        "print(fn[1])"
      ],
      "execution_count": 24,
      "outputs": [
        {
          "output_type": "stream",
          "text": [
            "hamada.txt\n",
            "txt\n"
          ],
          "name": "stdout"
        }
      ]
    },
    {
      "cell_type": "markdown",
      "metadata": {
        "id": "jE_7NMiVkzfW"
      },
      "source": [
        "## 8 Write a Python program to display the first and last colors from the following list.\n",
        "\n"
      ]
    },
    {
      "cell_type": "code",
      "metadata": {
        "scrolled": true,
        "id": "Bqnn4TAZkzfX",
        "outputId": "55b2b89e-b6d0-4aa2-911a-502c5143fb1e",
        "colab": {
          "base_uri": "https://localhost:8080/"
        }
      },
      "source": [
        "color_list = [\"Red\",\"Green\",\"White\" ,\"Black\"]\n",
        "print(color_list[0], \" \", color_list[-1])"
      ],
      "execution_count": 25,
      "outputs": [
        {
          "output_type": "stream",
          "text": [
            "Red   Black\n"
          ],
          "name": "stdout"
        }
      ]
    },
    {
      "cell_type": "markdown",
      "metadata": {
        "id": "1iUWzRukkzfX"
      },
      "source": [
        "## 9 Write a Python program to display the examination schedule. (extract the date from exam_st_date).\n",
        "\n"
      ]
    },
    {
      "cell_type": "code",
      "metadata": {
        "id": "sOueeg2akzfX",
        "outputId": "fc52db6c-3d77-4893-daa2-223afa6a607d",
        "colab": {
          "base_uri": "https://localhost:8080/"
        }
      },
      "source": [
        "exam_st_date = (11,12,2014)\n",
        "print('the examination will strat from : {} '.format(exam_st_date))\n"
      ],
      "execution_count": 26,
      "outputs": [
        {
          "output_type": "stream",
          "text": [
            "the examination will strat from : (11, 12, 2014) \n"
          ],
          "name": "stdout"
        }
      ]
    },
    {
      "cell_type": "markdown",
      "metadata": {
        "id": "m1qlFUz2kzfX"
      },
      "source": [
        "## 10 Write a Python program that accepts an integer (n) and computes the value of n+nn+nnn.\n",
        "\n"
      ]
    },
    {
      "cell_type": "code",
      "metadata": {
        "id": "kBEjh4-0kzfX",
        "outputId": "d9d8aedd-ae6e-4fab-8c67-b085cfd1b144",
        "colab": {
          "base_uri": "https://localhost:8080/"
        }
      },
      "source": [
        "a = int(input('enter a num :'))\n",
        "print(f\"{a+a**2+a**3}\")"
      ],
      "execution_count": 27,
      "outputs": [
        {
          "output_type": "stream",
          "text": [
            "enter a num :5\n",
            "155\n"
          ],
          "name": "stdout"
        }
      ]
    },
    {
      "cell_type": "code",
      "metadata": {
        "id": "NfR28IGAkzfX",
        "outputId": "e07a6d3d-90c7-41a2-c31f-bf8e073ce333",
        "colab": {
          "base_uri": "https://localhost:8080/"
        }
      },
      "source": [
        "# perfect\n",
        "n1 = input(\"Input an integer :\")\n",
        "x = int(n1) * 123\n",
        "print(x)"
      ],
      "execution_count": 28,
      "outputs": [
        {
          "output_type": "stream",
          "text": [
            "Input an integer :5\n",
            "615\n"
          ],
          "name": "stdout"
        }
      ]
    },
    {
      "cell_type": "markdown",
      "metadata": {
        "id": "Wazc0VuGkzfY"
      },
      "source": [
        "## 11 Write a Python program to print the documents (syntax, description etc.) of Python built-in function(s).\n",
        "\n"
      ]
    },
    {
      "cell_type": "code",
      "metadata": {
        "scrolled": true,
        "id": "iT9M1If0kzfY",
        "outputId": "81e37415-b877-4a9c-8ba5-ecbf06de68a6",
        "colab": {
          "base_uri": "https://localhost:8080/"
        }
      },
      "source": [
        "print(abs.__doc__)\n",
        "print(sorted.__doc__)\n",
        "print(max.__doc__)"
      ],
      "execution_count": 31,
      "outputs": [
        {
          "output_type": "stream",
          "text": [
            "Return the absolute value of the argument.\n",
            "Return a new list containing all items from the iterable in ascending order.\n",
            "\n",
            "A custom key function can be supplied to customize the sort order, and the\n",
            "reverse flag can be set to request the result in descending order.\n",
            "max(iterable, *[, default=obj, key=func]) -> value\n",
            "max(arg1, arg2, *args, *[, key=func]) -> value\n",
            "\n",
            "With a single iterable argument, return its biggest item. The\n",
            "default keyword-only argument specifies an object to return if\n",
            "the provided iterable is empty.\n",
            "With two or more arguments, return the largest argument.\n"
          ],
          "name": "stdout"
        }
      ]
    },
    {
      "cell_type": "markdown",
      "metadata": {
        "id": "jZHYu0jqkzfY"
      },
      "source": [
        "## 12 Write a Python program to print the calendar of a given month and year.\n",
        "\n"
      ]
    },
    {
      "cell_type": "code",
      "metadata": {
        "id": "utnRnzi4kzfY",
        "outputId": "da6af88b-da43-46bb-e6f7-97350ec53669",
        "colab": {
          "base_uri": "https://localhost:8080/"
        }
      },
      "source": [
        "import calendar\n",
        "y=int(input('enter the year :'))\n",
        "m=int(input('enter the month :'))\n",
        "print(calendar.month(y,m))"
      ],
      "execution_count": 32,
      "outputs": [
        {
          "output_type": "stream",
          "text": [
            "enter the year :1998\n",
            "enter the month :8\n",
            "    August 1998\n",
            "Mo Tu We Th Fr Sa Su\n",
            "                1  2\n",
            " 3  4  5  6  7  8  9\n",
            "10 11 12 13 14 15 16\n",
            "17 18 19 20 21 22 23\n",
            "24 25 26 27 28 29 30\n",
            "31\n",
            "\n"
          ],
          "name": "stdout"
        }
      ]
    },
    {
      "cell_type": "code",
      "metadata": {
        "id": "uFRVDMG7kzfY",
        "outputId": "82d4450c-394a-45a5-ac49-9582be118f6b",
        "colab": {
          "base_uri": "https://localhost:8080/"
        }
      },
      "source": [
        "print(calendar.month(2020,8))"
      ],
      "execution_count": 33,
      "outputs": [
        {
          "output_type": "stream",
          "text": [
            "    August 2020\n",
            "Mo Tu We Th Fr Sa Su\n",
            "                1  2\n",
            " 3  4  5  6  7  8  9\n",
            "10 11 12 13 14 15 16\n",
            "17 18 19 20 21 22 23\n",
            "24 25 26 27 28 29 30\n",
            "31\n",
            "\n"
          ],
          "name": "stdout"
        }
      ]
    },
    {
      "cell_type": "code",
      "metadata": {
        "id": "bR3ACGiDkzfY"
      },
      "source": [
        "'''\n",
        "Write a Python program to print the following 'here document'.\n",
        "\n",
        "Sample string:\n",
        "a string that you \"don't\" have to escape\n",
        "This\n",
        "is a ....... multi-line\n",
        "heredoc string --------> example\n",
        "'''\n",
        "print(\" Sample string:\\n astring that you 'don't have to escape \\n This \\n is a ....... multi-line\\n herdoc string-----------> example\")"
      ],
      "execution_count": null,
      "outputs": []
    },
    {
      "cell_type": "code",
      "metadata": {
        "id": "dTXaUR39kzfY",
        "outputId": "5d09dc29-62e4-41b7-9c16-929a28154bda",
        "colab": {
          "base_uri": "https://localhost:8080/"
        }
      },
      "source": [
        "print(\"\"\"\n",
        "astring that you \"don't\" have to escape\n",
        "this\n",
        "is a .......... multi-line\n",
        "herdoc string-------> example\"\"\")"
      ],
      "execution_count": 34,
      "outputs": [
        {
          "output_type": "stream",
          "text": [
            "\n",
            "astring that you \"don't\" have to escape\n",
            "this\n",
            "is a .......... multi-line\n",
            "herdoc string-------> example\n"
          ],
          "name": "stdout"
        }
      ]
    },
    {
      "cell_type": "markdown",
      "metadata": {
        "id": "twOVJ68ikzfZ"
      },
      "source": [
        "## 14 Write a Python program to calculate number of days between two dates.\n",
        "\n"
      ]
    },
    {
      "cell_type": "code",
      "metadata": {
        "id": "Ro-pDeX4kzfZ",
        "outputId": "42cfd518-3abc-43b1-8c1c-e77b2a9a4134",
        "colab": {
          "base_uri": "https://localhost:8080/"
        }
      },
      "source": [
        "from datetime import date\n",
        "first_date=date(2020,3,22)\n",
        "second_date=date(2020,7,19)\n",
        "delta = second_date-first_date\n",
        "print(delta.days)"
      ],
      "execution_count": 35,
      "outputs": [
        {
          "output_type": "stream",
          "text": [
            "119\n"
          ],
          "name": "stdout"
        }
      ]
    },
    {
      "cell_type": "markdown",
      "metadata": {
        "id": "5HsDWK0UkzfZ"
      },
      "source": [
        "## 15 Write a Python program to get the the volume of a sphere with radius 6.\n",
        "\n"
      ]
    },
    {
      "cell_type": "code",
      "metadata": {
        "id": "CexTl_OMkzfZ"
      },
      "source": [
        "pi=3.14\n",
        "r=6\n",
        "v=4/3*pi*r**3\n",
        "print('the volume is :', v)"
      ],
      "execution_count": null,
      "outputs": []
    },
    {
      "cell_type": "markdown",
      "metadata": {
        "id": "1bP18nT2kzfZ"
      },
      "source": [
        "## 16 Write a Python program to get the difference between a given number and 17, if the number is greater than 17 return double the absolute difference.\n"
      ]
    },
    {
      "cell_type": "code",
      "metadata": {
        "id": "8xUaRdU6kzfa"
      },
      "source": [
        "def diffrence(n):\n",
        "    if n <= 17:\n",
        "        return 17-n\n",
        "    else:\n",
        "        return (n-17)*2\n",
        "diffrence(14)"
      ],
      "execution_count": null,
      "outputs": []
    },
    {
      "cell_type": "markdown",
      "metadata": {
        "id": "diQ28T3Ckzfa"
      },
      "source": [
        "\n",
        "## 17 Write a Python program to test whether a number is within 100 of 1000 or 2000.\n",
        "\n"
      ]
    },
    {
      "cell_type": "code",
      "metadata": {
        "id": "lSSga7etkzfa"
      },
      "source": [
        "def difference(n):\n",
        "    return abs(1000-n) <= 100 or abs(2000-n) <=100\n",
        "difference(6)"
      ],
      "execution_count": null,
      "outputs": []
    },
    {
      "cell_type": "code",
      "metadata": {
        "id": "iWqVAj5tkzfa"
      },
      "source": [
        "x=int(input(\"Enter a number: \"))\n",
        "if x in range(900,1001) or x in range(1900,2001):\n",
        "    print(\"True\")\n",
        "else:\n",
        "    print(\"False\")"
      ],
      "execution_count": null,
      "outputs": []
    },
    {
      "cell_type": "markdown",
      "metadata": {
        "id": "Zh59_RfFkzfb"
      },
      "source": [
        "## 18 Write a Python program to calculate the sum of three given numbers, if the values are equal then return thrice of their sum.\n",
        "\n"
      ]
    },
    {
      "cell_type": "code",
      "metadata": {
        "id": "xF7Smazykzfb"
      },
      "source": [
        "def summ(n1,n2,n3):\n",
        "    if n1 == n2 ==n3:\n",
        "        return (n1+n2+n3)*3\n",
        "    else:\n",
        "        return n1+n2+n3\n",
        "summ(6,6,6)"
      ],
      "execution_count": null,
      "outputs": []
    },
    {
      "cell_type": "markdown",
      "metadata": {
        "id": "ab7CgKkDkzfb"
      },
      "source": [
        "## 19 Write a Python program to get a new string from a given string where \"Is\" has been added to the front. If the given string already begins with \"Is\" then return the string unchanged. Go to the editor\n",
        "\n",
        "\n"
      ]
    },
    {
      "cell_type": "code",
      "metadata": {
        "id": "YwpGW8jBkzfb"
      },
      "source": [
        "def word(str):\n",
        "    if str[:2] == 'is':\n",
        "        return str\n",
        "    else:\n",
        "        return 'is'+str\n",
        "word('array')"
      ],
      "execution_count": null,
      "outputs": []
    },
    {
      "cell_type": "code",
      "metadata": {
        "id": "_JmdoHkKkzfb"
      },
      "source": [
        "def NewString(str):\n",
        "    if len(str) >= 2 and str[0:2]=='Is':\n",
        "        return str\n",
        "    return 'is'+str\n",
        "NewString('Isarray')"
      ],
      "execution_count": null,
      "outputs": []
    },
    {
      "cell_type": "markdown",
      "metadata": {
        "id": "Vnl92FhWkzfc"
      },
      "source": [
        "## 20 Write a Python program to get a string which is n (non-negative integer) copies of a given string.\n",
        "\n"
      ]
    },
    {
      "cell_type": "code",
      "metadata": {
        "id": "jeBhouqykzfc",
        "outputId": "7d4608d8-6045-467c-f0b6-60d9db1d4503",
        "colab": {
          "base_uri": "https://localhost:8080/",
          "height": 35
        }
      },
      "source": [
        "def largerString(str, n):\n",
        "    result=\"\"\n",
        "    for i in range(n):\n",
        "        result = result + str\n",
        "    return result\n",
        "largerString('bola ', 4)\n"
      ],
      "execution_count": 37,
      "outputs": [
        {
          "output_type": "execute_result",
          "data": {
            "application/vnd.google.colaboratory.intrinsic+json": {
              "type": "string"
            },
            "text/plain": [
              "'bola bola bola bola '"
            ]
          },
          "metadata": {
            "tags": []
          },
          "execution_count": 37
        }
      ]
    },
    {
      "cell_type": "markdown",
      "metadata": {
        "id": "MVYH70Okkzfc"
      },
      "source": [
        "## 21 Write a Python program to find whether a given number (accept from the user) is even or odd, print out an appropriate message to the user.\n",
        "\n"
      ]
    },
    {
      "cell_type": "code",
      "metadata": {
        "id": "5K_B248Lkzfc"
      },
      "source": [
        "num = int(input('enter a number :'))\n",
        "if num % 2==0:\n",
        "    print('the number you entered is an even number')\n",
        "else:\n",
        "    print('the number you entered is an odd number')"
      ],
      "execution_count": null,
      "outputs": []
    },
    {
      "cell_type": "code",
      "metadata": {
        "id": "bkm9DAkUkzfc"
      },
      "source": [
        "def count_num_4(*args):\n",
        "    lists = [i for i in args]\n",
        "    return lists.count(4)\n",
        "count_num_4(3,4,7,4,2,7)"
      ],
      "execution_count": null,
      "outputs": []
    },
    {
      "cell_type": "code",
      "metadata": {
        "id": "qExU63qqkzfc"
      },
      "source": [
        "def count_num_4(nums):\n",
        "    count=0\n",
        "    for i in nums:\n",
        "        if i==4:\n",
        "            count=count+1\n",
        "    return count\n",
        "count_num_4([4,3,6,8,7,9,4,8,4])"
      ],
      "execution_count": null,
      "outputs": []
    },
    {
      "cell_type": "markdown",
      "metadata": {
        "id": "fOlUs-dAkzfc"
      },
      "source": [
        "## 23 Write a Python program to get the n (non-negative integer) copies of the first 2 characters of a given string. Return the n copies of the whole string if the length is less than 2.\n",
        "\n"
      ]
    },
    {
      "cell_type": "code",
      "metadata": {
        "id": "wnX8ktgHkzfd"
      },
      "source": [
        "def substring_copy(str, n):\n",
        "    flen = 2\n",
        "    if flen > len(str):\n",
        "        flen = len(str)\n",
        "    substr = str[:flen]\n",
        "  \n",
        "    result = \"\"\n",
        "    for i in range(n):\n",
        "        result = result + substr\n",
        "    return result\n",
        "print(substring_copy('abcdef', 2))\n",
        "print(substring_copy('p', 3));\n",
        "print(substring_copy('muythgrdf', 1));\n"
      ],
      "execution_count": null,
      "outputs": []
    },
    {
      "cell_type": "code",
      "metadata": {
        "id": "eklqGIZSkzfd",
        "outputId": "de239573-21bd-4d3a-af6a-8538ba5b5a3e",
        "colab": {
          "base_uri": "https://localhost:8080/"
        }
      },
      "source": [
        "#perfect\n",
        "word = input(\"Enter text:\")\n",
        "copys = int(input(\"Enter copy:\"))\n",
        "print(word[0:2]*copys)"
      ],
      "execution_count": 38,
      "outputs": [
        {
          "output_type": "stream",
          "text": [
            "Enter text:hello world\n",
            "Enter copy:5\n",
            "hehehehehe\n"
          ],
          "name": "stdout"
        }
      ]
    },
    {
      "cell_type": "markdown",
      "metadata": {
        "id": "ne-XJ4sSkzfd"
      },
      "source": [
        "## 24 Write a Python program to test whether a passed letter is a vowel or not.\n",
        "\n"
      ]
    },
    {
      "cell_type": "code",
      "metadata": {
        "id": "jcrpCWmYkzfd"
      },
      "source": [
        "def is_vowel(char):\n",
        "    all_vowel='aeiou'\n",
        "    return char in all_vowel\n",
        "is_vowel('l')"
      ],
      "execution_count": null,
      "outputs": []
    },
    {
      "cell_type": "markdown",
      "metadata": {
        "id": "t4QnaTJWkzfd"
      },
      "source": [
        "## 25 Write a Python program to check whether a specified value is contained in a group of values.\n",
        "\n"
      ]
    },
    {
      "cell_type": "code",
      "metadata": {
        "id": "sTgGQ1OYkzfd"
      },
      "source": [
        "def values(*args):\n",
        "    lists=[i for i in args]\n",
        "    n=int(input())\n",
        "    return n in lists\n",
        "values(2,3,4,5,6,7)\n"
      ],
      "execution_count": null,
      "outputs": []
    },
    {
      "cell_type": "code",
      "metadata": {
        "id": "b_e23cHnkzfd"
      },
      "source": [
        "def find_value(values, value):\n",
        "    if value in values:\n",
        "        return True\n",
        "    else:\n",
        "        return False\n",
        "find_value([2,3,4,5,6,7,8,9],4)"
      ],
      "execution_count": null,
      "outputs": []
    },
    {
      "cell_type": "code",
      "metadata": {
        "id": "q2ydQxXekzfe"
      },
      "source": [
        "def values(nums):\n",
        "    num=int(input('enter a num :'))\n",
        "    return num in nums\n",
        "values([4,5,2,4,6])"
      ],
      "execution_count": null,
      "outputs": []
    },
    {
      "cell_type": "code",
      "metadata": {
        "id": "_o-M4AZekzfe"
      },
      "source": [
        "def values(groupOfValues,n):\n",
        "    for i in groupOfValues:\n",
        "        if n ==i:\n",
        "            return True\n",
        "    return False\n",
        "values([2,4,5,6,7,8,9,0],4)"
      ],
      "execution_count": null,
      "outputs": []
    },
    {
      "cell_type": "code",
      "metadata": {
        "id": "6nDSRg2Lkzfe"
      },
      "source": [
        "def is_group_member(group_data, n):\n",
        "    for value in group_data:\n",
        "        if n == value:\n",
        "            return True\n",
        "    return False\n",
        "print(is_group_member([1, 5, 8, 3], 3))\n",
        "print(is_group_member([5, 8, 3], -1))\n"
      ],
      "execution_count": null,
      "outputs": []
    },
    {
      "cell_type": "markdown",
      "metadata": {
        "id": "Ah6kMaXnkzfe"
      },
      "source": [
        "## 26 Write a Python program to create a histogram from a given list of integers.\n",
        "\n",
        "\n"
      ]
    },
    {
      "cell_type": "code",
      "metadata": {
        "id": "-dzzPmMnkzfe"
      },
      "source": [
        "def histogram(*args):\n",
        "    n=[o for o in args]\n",
        "    for i in n:\n",
        "        for m in range(i):\n",
        "            print('@',end=\"\")\n",
        "        print()\n",
        "histogram(2,3,6,5)"
      ],
      "execution_count": null,
      "outputs": []
    },
    {
      "cell_type": "code",
      "metadata": {
        "id": "em-_gKXjkzfe"
      },
      "source": [
        "lst=[1,2,3,4,5,6,7,8,9]\n",
        "for i in lst:\n",
        "    for m in range(i):\n",
        "        print('*',end='')\n",
        "    print()"
      ],
      "execution_count": null,
      "outputs": []
    },
    {
      "cell_type": "code",
      "metadata": {
        "id": "6Kng3Dtfkzfe"
      },
      "source": [
        "def histogram( items ):\n",
        "    for n in items:\n",
        "        output = ''\n",
        "        times = n\n",
        "        while( times > 0 ):\n",
        "            output += '*'\n",
        "            times = times - 1\n",
        "        print(output)\n",
        "\n",
        "histogram([2, 3, 6, 5])\n"
      ],
      "execution_count": null,
      "outputs": []
    },
    {
      "cell_type": "code",
      "metadata": {
        "id": "08WOl0qtkzff"
      },
      "source": [
        "def concat(*args):\n",
        "    for n in args:\n",
        "        return sum(args)\n",
        "concat(2,3,4,5,6,7)"
      ],
      "execution_count": null,
      "outputs": []
    },
    {
      "cell_type": "markdown",
      "metadata": {
        "id": "d2F-gpEakzff"
      },
      "source": [
        "## 27 Write a Python program to concatenate all elements in a list into a string and return it.\n"
      ]
    },
    {
      "cell_type": "code",
      "metadata": {
        "id": "8dg_6UiNkzff"
      },
      "source": [
        "def concat(list):\n",
        "    result=''\n",
        "    for element in list:\n",
        "        result += str(element)\n",
        "    return result\n",
        "print(concat([2,3,4,5,6,7]))"
      ],
      "execution_count": null,
      "outputs": []
    },
    {
      "cell_type": "code",
      "metadata": {
        "id": "Sx1KED5Gkzff"
      },
      "source": [
        "def concatenate_list_data(list):\n",
        "    result= ''\n",
        "    for element in list:\n",
        "        result += str(element)\n",
        "    return result\n",
        "\n",
        "print(concatenate_list_data([1, 5, 14, 2]))\n"
      ],
      "execution_count": null,
      "outputs": []
    },
    {
      "cell_type": "code",
      "metadata": {
        "id": "3mx9rx-Ykzff"
      },
      "source": [
        "li=[2,3,3,34]\n",
        "st=\"\".join(str(i) for i in li )\n",
        "print(st)"
      ],
      "execution_count": null,
      "outputs": []
    },
    {
      "cell_type": "markdown",
      "metadata": {
        "id": "AVNci20Ikzff"
      },
      "source": [
        "## 29 Write a Python program to print out all even numbers from a given numbers list in the same order and stop the printing if any numbers that come after 237 in the sequence."
      ]
    },
    {
      "cell_type": "code",
      "metadata": {
        "id": "8ngPKfFekzff"
      },
      "source": [
        "numbers = [    \n",
        "    386, 462, 47, 418, 907, 344, 236, 375, 823, 566, 597, 978, 328, 615, 953, 345, \n",
        "    399, 162, 758, 219, 918, 237, 412, 566, 826, 248, 866, 950, 626, 949, 687, 217, \n",
        "    815, 67, 104, 58, 512, 24, 892, 894, 767, 553, 81, 379, 843, 831, 445, 742, 717, \n",
        "    958,743, 527\n",
        "    ]\n",
        "\n",
        "for x in numbers:\n",
        "    if x == 237:\n",
        "        print(x)\n",
        "        break;\n",
        "    elif x % 2 == 0:\n",
        "        print(x)\n",
        "\t\t"
      ],
      "execution_count": null,
      "outputs": []
    },
    {
      "cell_type": "code",
      "metadata": {
        "id": "tdkq6pokkzfg"
      },
      "source": [
        "numbers = [    \n",
        "    386, 462, 47, 418, 907, 344, 236, 375, 823, 566, 597, 978, 328, 615, 953, 345, \n",
        "    399, 162, 758, 219, 918, 237, 412, 566, 826, 248, 866, 950, 626, 949, 687, 217, \n",
        "    815, 67, 104, 58, 512, 24, 892, 894, 767, 553, 81, 379, 843, 831, 445, 742, 717, \n",
        "    958,743, 527\n",
        "    ]\n",
        "for num in numbers:\n",
        "    if num == 237:\n",
        "        print (237)\n",
        "        break\n",
        "    elif num%2==0:\n",
        "        print(num)"
      ],
      "execution_count": null,
      "outputs": []
    },
    {
      "cell_type": "markdown",
      "metadata": {
        "id": "qctNOAb2kzfg"
      },
      "source": [
        "## 29 Write a Python program to print out a set containing all the colors from color_list_1 which are not present in color_list_2.\n",
        "\n"
      ]
    },
    {
      "cell_type": "code",
      "metadata": {
        "id": "ZbwM3bhfkzfg"
      },
      "source": [
        "def color(lst1,lst2):\n",
        "    for i in lst1:\n",
        "        if i not in lst2:\n",
        "            print(i)\n",
        "color(['red','blue','green','white'],['black','yellow','gray','blue'])"
      ],
      "execution_count": null,
      "outputs": []
    },
    {
      "cell_type": "code",
      "metadata": {
        "id": "3IjlaV-4kzfg"
      },
      "source": [
        "color_lst1=set(['black','white','blue'])\n",
        "color_lst2=set(['red','green','blck','white'])\n",
        "print(color_lst1.difference(color_lst2))"
      ],
      "execution_count": null,
      "outputs": []
    },
    {
      "cell_type": "markdown",
      "metadata": {
        "id": "78OOEP5-kzfg"
      },
      "source": [
        "## 30 Write a Python program that will accept the base and height of a triangle and compute the area.\n",
        "\n"
      ]
    },
    {
      "cell_type": "code",
      "metadata": {
        "id": "at2dOhOgkzfg"
      },
      "source": [
        "def triangle(base,height):\n",
        "    print('area is',(base*height)/2)\n",
        "triangle(8,5)"
      ],
      "execution_count": null,
      "outputs": []
    },
    {
      "cell_type": "markdown",
      "metadata": {
        "id": "Ar00hjkDkzfh"
      },
      "source": [
        "## 31 Write a Python program to compute the greatest common divisor (GCD) of two positive integers.\n",
        "\n"
      ]
    },
    {
      "cell_type": "code",
      "metadata": {
        "id": "K2fPfUcvkzfh"
      },
      "source": [
        "def gcd(x, y):\n",
        "    gcd = 1\n",
        "    \n",
        "    if x % y == 0:\n",
        "        return y\n",
        "    \n",
        "    for k in range(int(y / 2), 0, -1):\n",
        "        if x % k == 0 and y % k == 0:\n",
        "            gcd = k\n",
        "            break  \n",
        "    return gcd\n",
        "\n",
        "print(gcd(12, 17))\n",
        "print(gcd(12, 6))\n"
      ],
      "execution_count": null,
      "outputs": []
    },
    {
      "cell_type": "code",
      "metadata": {
        "id": "8RHIfA8Xkzfh"
      },
      "source": [
        "from math import gcd\n",
        "def GCD(*num):\n",
        "    return gcd(*num)\n",
        "GCD(12,6)"
      ],
      "execution_count": null,
      "outputs": []
    },
    {
      "cell_type": "code",
      "metadata": {
        "id": "b5YWeW1Lkzfh"
      },
      "source": [
        "def gcd(a,b):\n",
        "    for i in range(1,max(a,b)+1):\n",
        "        if (a%i==0) and (b%i==0):\n",
        "            m = i\n",
        "    return m\n",
        "gcd(12,15)"
      ],
      "execution_count": null,
      "outputs": []
    },
    {
      "cell_type": "code",
      "metadata": {
        "id": "-At2iS-Hkzfh"
      },
      "source": [
        "def gcd(a,b):\n",
        "    for i in range(1,max(a,b)+1):\n",
        "        if a%i==0 and b%i==0:\n",
        "            m=i\n",
        "    return m\n",
        "gcd(12,15)"
      ],
      "execution_count": null,
      "outputs": []
    },
    {
      "cell_type": "markdown",
      "metadata": {
        "id": "o7jyt47Gkzfh"
      },
      "source": [
        "## 32 Write a Python program to get the least common multiple (LCM) of two positive integers.\n",
        "\n"
      ]
    },
    {
      "cell_type": "code",
      "metadata": {
        "id": "ZvjeznCQkzfh"
      },
      "source": [
        "def lcm(x, y):\n",
        "    if x > y:\n",
        "        z = x\n",
        "    else:\n",
        "        z = y\n",
        "\n",
        "    while True:\n",
        "        if (z % x == 0) and (z % y == 0):\n",
        "            lcm = z\n",
        "            break\n",
        "        z += 1\n",
        "\n",
        "    return lcm\n",
        "lcm(15, 13)\n"
      ],
      "execution_count": null,
      "outputs": []
    },
    {
      "cell_type": "code",
      "metadata": {
        "id": "nK8zfudFkzfi"
      },
      "source": [
        "def lcm(a,b):\n",
        "    for i in range(1,a*b+1):\n",
        "        if i%a == 0 and i%b == 0 :\n",
        "            break\n",
        "    print(\"lcm of two numbers:\",i)\n",
        "lcm(15,12)"
      ],
      "execution_count": null,
      "outputs": []
    },
    {
      "cell_type": "markdown",
      "metadata": {
        "id": "ZCC6kNUekzfi"
      },
      "source": [
        "##  33 Write a Python program to sum of three given integers. However, if two values are equal sum will be zero.\n",
        "\n"
      ]
    },
    {
      "cell_type": "code",
      "metadata": {
        "id": "3gEh2CDGkzfi"
      },
      "source": [
        "def sum(x,y,z):\n",
        "    if x==y or x==z or y==z:\n",
        "        sum =0\n",
        "    else:\n",
        "        sum = x+y+z\n",
        "    return sum\n",
        "sum(2,4,2)"
      ],
      "execution_count": null,
      "outputs": []
    },
    {
      "cell_type": "markdown",
      "metadata": {
        "id": "qefTYtaPkzfi"
      },
      "source": [
        "## 34 Write a Python program to sum of two given integers. However, if the sum is between 15 to 20 it will return 20.\n",
        "\n"
      ]
    },
    {
      "cell_type": "code",
      "metadata": {
        "id": "MHxxa4FKkzfi"
      },
      "source": [
        "def sum(x,y):\n",
        "    sum = x+y\n",
        "    if sum in range(15-20):\n",
        "        return 20\n",
        "    else:\n",
        "        return sum\n",
        "sum(12,9)"
      ],
      "execution_count": null,
      "outputs": []
    },
    {
      "cell_type": "code",
      "metadata": {
        "id": "W7tEZKjYkzfi"
      },
      "source": [
        "def mmm(x,y):\n",
        "    if x+y >15 and x+y <20:\n",
        "        return 20\n",
        "    else:\n",
        "        return x+y\n",
        "mmm(15,11)"
      ],
      "execution_count": null,
      "outputs": []
    },
    {
      "cell_type": "markdown",
      "metadata": {
        "id": "Mpd41jFqkzfi"
      },
      "source": [
        "## 35 Write a Python program which will return true if the two given integer values are equal or their sum or difference is 5.\n",
        "\n"
      ]
    },
    {
      "cell_type": "code",
      "metadata": {
        "id": "Xff7QALhkzfi"
      },
      "source": [
        "def integer(x,y):\n",
        "    if x==y or abs(x+y)==5 or x-y==5:\n",
        "        return True\n",
        "    else:\n",
        "        return False\n",
        "integer(-8,3)\n",
        "    "
      ],
      "execution_count": null,
      "outputs": []
    },
    {
      "cell_type": "markdown",
      "metadata": {
        "id": "ISBHze80kzfj"
      },
      "source": [
        "## 36 Write a Python program to add two objects if both objects are an integer type.\n",
        "\n"
      ]
    },
    {
      "cell_type": "code",
      "metadata": {
        "scrolled": true,
        "id": "1VSRC-kTkzfj",
        "outputId": "891e06d1-e059-478e-96f4-e19fdb35469e",
        "colab": {
          "base_uri": "https://localhost:8080/"
        }
      },
      "source": [
        "def add_numbers(a, b):\n",
        "    if not (isinstance(a, int)) and (isinstance(b, int)):\n",
        "         raise TypeError(\"Inputs must be integers\")\n",
        "    return a + b\n",
        "\n",
        "add_numbers(10, 20)\n"
      ],
      "execution_count": 44,
      "outputs": [
        {
          "output_type": "execute_result",
          "data": {
            "text/plain": [
              "30"
            ]
          },
          "metadata": {
            "tags": []
          },
          "execution_count": 44
        }
      ]
    },
    {
      "cell_type": "code",
      "metadata": {
        "id": "mfY6XNCRkzfj",
        "outputId": "aebc6b61-1bbc-41a0-ae83-02a00d16a19a",
        "colab": {
          "base_uri": "https://localhost:8080/"
        }
      },
      "source": [
        "def add_obj(x,y):\n",
        "    if type(x)==int and type(y)==int:\n",
        "        print(x+y)\n",
        "    return None\n",
        "print(add_obj(2,3))"
      ],
      "execution_count": 45,
      "outputs": [
        {
          "output_type": "stream",
          "text": [
            "5\n",
            "None\n"
          ],
          "name": "stdout"
        }
      ]
    },
    {
      "cell_type": "code",
      "metadata": {
        "id": "rvIFqM5xkzfj",
        "outputId": "8c8c570a-29a6-4238-9d76-cedf990090a2",
        "colab": {
          "base_uri": "https://localhost:8080/"
        }
      },
      "source": [
        "def add_two_obj(a,b):\n",
        "    if (isinstance(a,int) and isinstance(b,int)):\n",
        "        return a +b\n",
        "    else:\n",
        "        raise TypeError('must be integers')\n",
        "add_two_obj(5,8)"
      ],
      "execution_count": 46,
      "outputs": [
        {
          "output_type": "execute_result",
          "data": {
            "text/plain": [
              "13"
            ]
          },
          "metadata": {
            "tags": []
          },
          "execution_count": 46
        }
      ]
    },
    {
      "cell_type": "markdown",
      "metadata": {
        "id": "MOVYXyIokzfj"
      },
      "source": [
        "## 37 Write a Python program to display your details like name, age, address in three different lines.\n",
        "\n"
      ]
    },
    {
      "cell_type": "code",
      "metadata": {
        "scrolled": true,
        "id": "sq0nsbXOkzfj"
      },
      "source": [
        "def details(name,age,adress):\n",
        "    print(f'your name is {name} \\nyour age is {age}\\nyour adress is {adress}')\n",
        "details('mina',25,'sohag')"
      ],
      "execution_count": null,
      "outputs": []
    },
    {
      "cell_type": "markdown",
      "metadata": {
        "id": "GjCJ3QTMkzfj"
      },
      "source": [
        "## 38 Write a Python program to solve (x + y) * (x + y).\n",
        "\n"
      ]
    },
    {
      "cell_type": "code",
      "metadata": {
        "id": "vdOlTyHKkzfk"
      },
      "source": [
        "def prog(x,y):\n",
        "    print(f'({x} + {y}) * ({x} + {y}) = ',(x + y)*(x+y))\n",
        "prog(9,3)"
      ],
      "execution_count": null,
      "outputs": []
    },
    {
      "cell_type": "markdown",
      "metadata": {
        "id": "zAfh86LLkzfk"
      },
      "source": [
        "## 39 Write a Python program to compute the future value of a specified principal amount, rate of interest, and a number of years.\n",
        "\n"
      ]
    },
    {
      "cell_type": "code",
      "metadata": {
        "id": "iukypZNSkzfk"
      },
      "source": [
        "amt = 10000\n",
        "int = 3.5\n",
        "years = 7\n",
        "\n",
        "future_value  = amt*((1+(0.01*int)) ** years)\n",
        "print(round(future_value,2))\n"
      ],
      "execution_count": null,
      "outputs": []
    },
    {
      "cell_type": "markdown",
      "metadata": {
        "id": "P18DhMeYkzfk"
      },
      "source": [
        "## 40 Write a Python program to compute the distance between the points (x1, y1) and (x2, y2).\n",
        "\n",
        "\n"
      ]
    },
    {
      "cell_type": "code",
      "metadata": {
        "id": "w2LB0ORUkzfk"
      },
      "source": [
        "import math\n",
        "p1 = [8, 9]\n",
        "p2 = [6, 4]\n",
        "distance = math.sqrt( ((p1[0]-p2[0])**2)+((p1[1]-p2[1])**2) )\n",
        "print(distance)"
      ],
      "execution_count": null,
      "outputs": []
    },
    {
      "cell_type": "markdown",
      "metadata": {
        "id": "FXcHTmRGkzfk"
      },
      "source": [
        "## 41 Write a Python program to check whether a file exists.\n",
        "\n"
      ]
    },
    {
      "cell_type": "code",
      "metadata": {
        "id": "BsbjmKOQkzfk",
        "outputId": "f03c203a-9e55-404a-b961-f8826719d511",
        "colab": {
          "base_uri": "https://localhost:8080/"
        }
      },
      "source": [
        "import os.path\n",
        "#open('abc.txt', 'w')\n",
        "print(os.path.isfile('abc.txt'))"
      ],
      "execution_count": 43,
      "outputs": [
        {
          "output_type": "stream",
          "text": [
            "False\n"
          ],
          "name": "stdout"
        }
      ]
    },
    {
      "cell_type": "markdown",
      "metadata": {
        "id": "Zrw-W-nikzfl"
      },
      "source": [
        "## 42 Write a Python program to determine whether a Python shell is executing in 32bit or 64bit mode on OS?\n",
        "\n"
      ]
    },
    {
      "cell_type": "code",
      "metadata": {
        "id": "ZYDQLj7jkzfl",
        "outputId": "0e1b57f2-f249-47fd-bacf-334ba5e5c917",
        "colab": {
          "base_uri": "https://localhost:8080/"
        }
      },
      "source": [
        "import struct\n",
        "print(struct.calcsize(\"P\") * 8)"
      ],
      "execution_count": 42,
      "outputs": [
        {
          "output_type": "stream",
          "text": [
            "64\n"
          ],
          "name": "stdout"
        }
      ]
    },
    {
      "cell_type": "markdown",
      "metadata": {
        "id": "o8S3asKgkzfl"
      },
      "source": [
        "## 43 Write a Python program to get OS name, platform and release information.\n",
        "\n",
        "\n"
      ]
    },
    {
      "cell_type": "code",
      "metadata": {
        "scrolled": true,
        "id": "7IAChHh0kzfl",
        "outputId": "a8aa8762-7cf4-4440-a12f-15ce8516aa3f",
        "colab": {
          "base_uri": "https://localhost:8080/"
        }
      },
      "source": [
        "import platform\n",
        "import os\n",
        "print(os.name)\n",
        "print(platform.system())"
      ],
      "execution_count": 41,
      "outputs": [
        {
          "output_type": "stream",
          "text": [
            "posix\n",
            "Linux\n"
          ],
          "name": "stdout"
        }
      ]
    },
    {
      "cell_type": "markdown",
      "metadata": {
        "id": "E5iDU6z6kzfl"
      },
      "source": [
        "## 44 Write a Python program to locate Python site-packages.\n",
        "\n"
      ]
    },
    {
      "cell_type": "code",
      "metadata": {
        "id": "8sz4sTj_kzfl",
        "outputId": "455c917d-84da-403d-e3b4-1afd5d293f83",
        "colab": {
          "base_uri": "https://localhost:8080/"
        }
      },
      "source": [
        "import site\n",
        "site.getsitepackages()"
      ],
      "execution_count": 40,
      "outputs": [
        {
          "output_type": "execute_result",
          "data": {
            "text/plain": [
              "['/usr/local/lib/python3.7/dist-packages',\n",
              " '/usr/lib/python3/dist-packages',\n",
              " '/usr/lib/python3.7/dist-packages']"
            ]
          },
          "metadata": {
            "tags": []
          },
          "execution_count": 40
        }
      ]
    },
    {
      "cell_type": "markdown",
      "metadata": {
        "id": "jjgCxkIXkzfm"
      },
      "source": [
        "## 48 Write a Python program to parse a string to Float or Integer.\n",
        "\n"
      ]
    },
    {
      "cell_type": "code",
      "metadata": {
        "id": "Z-hd_B_vkzfm"
      },
      "source": [
        "n = \"246.2458\"\n",
        "print(float(n))\n",
        "print(int(float(n)))"
      ],
      "execution_count": null,
      "outputs": []
    },
    {
      "cell_type": "markdown",
      "metadata": {
        "id": "_e_rtV0_kzfm"
      },
      "source": [
        "## 49 Write a Python program to list all files in a directory in Python.\n",
        "\n",
        "\n"
      ]
    },
    {
      "cell_type": "code",
      "metadata": {
        "id": "PEJgkvnWkzfm",
        "outputId": "4b4cde8a-79ac-4369-99c1-f1f99ed9d138",
        "colab": {
          "base_uri": "https://localhost:8080/",
          "height": 214
        }
      },
      "source": [
        "from os import listdir\n",
        "from os.path import isfile, join\n",
        "files_list = [f for f in listdir('ayam el kolia') if isfile(join('ayam el kolia', f))]\n",
        "files_list"
      ],
      "execution_count": 39,
      "outputs": [
        {
          "output_type": "error",
          "ename": "FileNotFoundError",
          "evalue": "ignored",
          "traceback": [
            "\u001b[0;31m---------------------------------------------------------------------------\u001b[0m",
            "\u001b[0;31mFileNotFoundError\u001b[0m                         Traceback (most recent call last)",
            "\u001b[0;32m<ipython-input-39-3d0027737ced>\u001b[0m in \u001b[0;36m<module>\u001b[0;34m()\u001b[0m\n\u001b[1;32m      1\u001b[0m \u001b[0;32mfrom\u001b[0m \u001b[0mos\u001b[0m \u001b[0;32mimport\u001b[0m \u001b[0mlistdir\u001b[0m\u001b[0;34m\u001b[0m\u001b[0;34m\u001b[0m\u001b[0m\n\u001b[1;32m      2\u001b[0m \u001b[0;32mfrom\u001b[0m \u001b[0mos\u001b[0m\u001b[0;34m.\u001b[0m\u001b[0mpath\u001b[0m \u001b[0;32mimport\u001b[0m \u001b[0misfile\u001b[0m\u001b[0;34m,\u001b[0m \u001b[0mjoin\u001b[0m\u001b[0;34m\u001b[0m\u001b[0;34m\u001b[0m\u001b[0m\n\u001b[0;32m----> 3\u001b[0;31m \u001b[0mfiles_list\u001b[0m \u001b[0;34m=\u001b[0m \u001b[0;34m[\u001b[0m\u001b[0mf\u001b[0m \u001b[0;32mfor\u001b[0m \u001b[0mf\u001b[0m \u001b[0;32min\u001b[0m \u001b[0mlistdir\u001b[0m\u001b[0;34m(\u001b[0m\u001b[0;34m'ayam el kolia'\u001b[0m\u001b[0;34m)\u001b[0m \u001b[0;32mif\u001b[0m \u001b[0misfile\u001b[0m\u001b[0;34m(\u001b[0m\u001b[0mjoin\u001b[0m\u001b[0;34m(\u001b[0m\u001b[0;34m'ayam el kolia'\u001b[0m\u001b[0;34m,\u001b[0m \u001b[0mf\u001b[0m\u001b[0;34m)\u001b[0m\u001b[0;34m)\u001b[0m\u001b[0;34m]\u001b[0m\u001b[0;34m\u001b[0m\u001b[0;34m\u001b[0m\u001b[0m\n\u001b[0m\u001b[1;32m      4\u001b[0m \u001b[0mfiles_list\u001b[0m\u001b[0;34m\u001b[0m\u001b[0;34m\u001b[0m\u001b[0m\n",
            "\u001b[0;31mFileNotFoundError\u001b[0m: [Errno 2] No such file or directory: 'ayam el kolia'"
          ]
        }
      ]
    },
    {
      "cell_type": "markdown",
      "metadata": {
        "id": "PY7AFvV0kzfm"
      },
      "source": [
        "## 50 Write a Python program to print without newline or space?\n",
        "\n"
      ]
    },
    {
      "cell_type": "code",
      "metadata": {
        "id": "V9GTjalskzfm"
      },
      "source": [
        "for i in range(0, 10):\n",
        "    print('*', end=\"\")"
      ],
      "execution_count": null,
      "outputs": []
    },
    {
      "cell_type": "code",
      "metadata": {
        "id": "3A1R3S1Fkzfm"
      },
      "source": [
        ""
      ],
      "execution_count": null,
      "outputs": []
    }
  ]
}