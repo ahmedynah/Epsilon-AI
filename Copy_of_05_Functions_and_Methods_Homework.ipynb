{
  "nbformat": 4,
  "nbformat_minor": 0,
  "metadata": {
    "kernelspec": {
      "display_name": "Python 3",
      "language": "python",
      "name": "python3"
    },
    "language_info": {
      "codemirror_mode": {
        "name": "ipython",
        "version": 3
      },
      "file_extension": ".py",
      "mimetype": "text/x-python",
      "name": "python",
      "nbconvert_exporter": "python",
      "pygments_lexer": "ipython3",
      "version": "3.7.6"
    },
    "colab": {
      "name": "Copy of 05-Functions and Methods Homework.ipynb",
      "provenance": [],
      "include_colab_link": true
    }
  },
  "cells": [
    {
      "cell_type": "markdown",
      "metadata": {
        "id": "view-in-github",
        "colab_type": "text"
      },
      "source": [
        "<a href=\"https://colab.research.google.com/github/ahmedynah/Epsilon-AI/blob/main/Copy_of_05_Functions_and_Methods_Homework.ipynb\" target=\"_parent\"><img src=\"https://colab.research.google.com/assets/colab-badge.svg\" alt=\"Open In Colab\"/></a>"
      ]
    },
    {
      "cell_type": "markdown",
      "metadata": {
        "id": "lFpkL52F7Re1"
      },
      "source": [
        "# Functions and Methods Homework \n",
        "\n",
        "Complete the following questions:\n",
        "____\n",
        "**Write a function that computes the volume of a sphere given its radius.**\n",
        "<p>The volume of a sphere is given as $$\\frac{4}{3} πr^3$$</p>"
      ]
    },
    {
      "cell_type": "code",
      "metadata": {
        "id": "S7abNBTs7Re3"
      },
      "source": [
        "from math import pi\n",
        "def vol(rad):\n",
        "    return (4/3) * ( pi * rad**3)"
      ],
      "execution_count": null,
      "outputs": []
    },
    {
      "cell_type": "code",
      "metadata": {
        "id": "jmfljGTe7Re4",
        "colab": {
          "base_uri": "https://localhost:8080/"
        },
        "outputId": "c90d6a5a-13b6-4f78-c8a5-46ed63066fc4"
      },
      "source": [
        "# Check\n",
        "vol(2)"
      ],
      "execution_count": null,
      "outputs": [
        {
          "output_type": "execute_result",
          "data": {
            "text/plain": [
              "33.510321638291124"
            ]
          },
          "metadata": {},
          "execution_count": 4
        }
      ]
    },
    {
      "cell_type": "markdown",
      "metadata": {
        "id": "1ZD4D_iy7Re5"
      },
      "source": [
        "___\n",
        "**Write a function that checks whether a number is in a given range (inclusive of high and low)**"
      ]
    },
    {
      "cell_type": "code",
      "metadata": {
        "id": "wspEBflY7Re5"
      },
      "source": [
        "def ran_check(num,low,high):\n",
        "    if num in range(low, high + 1) :\n",
        "      return \"in range\"\n",
        "    else:\n",
        "      \"out of range\""
      ],
      "execution_count": null,
      "outputs": []
    },
    {
      "cell_type": "code",
      "metadata": {
        "id": "aogoYmUx7Re6",
        "colab": {
          "base_uri": "https://localhost:8080/",
          "height": 35
        },
        "outputId": "45d39c9e-ab39-4800-8c70-722e4d637b2d"
      },
      "source": [
        "# Check\n",
        "ran_check(5,2,7)"
      ],
      "execution_count": null,
      "outputs": [
        {
          "output_type": "execute_result",
          "data": {
            "application/vnd.google.colaboratory.intrinsic+json": {
              "type": "string"
            },
            "text/plain": [
              "'in range'"
            ]
          },
          "metadata": {},
          "execution_count": 10
        }
      ]
    },
    {
      "cell_type": "markdown",
      "metadata": {
        "id": "ecbdaioj7Re6"
      },
      "source": [
        "If you only wanted to return a boolean:"
      ]
    },
    {
      "cell_type": "code",
      "metadata": {
        "id": "OIyozudX7Re7"
      },
      "source": [
        "def ran_bool(num,low,high):\n",
        "    return num in range(low, high + 1)"
      ],
      "execution_count": null,
      "outputs": []
    },
    {
      "cell_type": "code",
      "metadata": {
        "id": "LVQt59917Re8",
        "outputId": "225d8c83-2e4e-4f5a-dbb8-4a9e4594ff5b"
      },
      "source": [
        "ran_bool(3,1,10)"
      ],
      "execution_count": null,
      "outputs": [
        {
          "data": {
            "text/plain": [
              "True"
            ]
          },
          "execution_count": 6,
          "metadata": {},
          "output_type": "execute_result"
        }
      ]
    },
    {
      "cell_type": "markdown",
      "metadata": {
        "id": "VrqGayZn7Re9"
      },
      "source": [
        "____\n",
        "**Write a Python function that accepts a string and calculates the number of upper case letters and lower case letters.**\n",
        "\n",
        "    Sample String : 'Hello Mr. Rogers, how are you this fine Tuesday?'\n",
        "    Expected Output : \n",
        "    No. of Upper case characters : 4\n",
        "    No. of Lower case Characters : 33\n",
        "\n",
        "HINT: Two string methods that might prove useful: **.isupper()** and **.islower()**\n",
        "\n",
        "If you feel ambitious, explore the Collections module to solve this problem!"
      ]
    },
    {
      "cell_type": "code",
      "metadata": {
        "id": "XIV6oYdI7Re9"
      },
      "source": [
        "def up_low(s):\n",
        "    up = len(list(filter(lambda x : x.isupper(), s)))\n",
        "    lower = len(list(filter(lambda x : x.islower(), s)))\n",
        "    return \"No. of Upper case characters :  {0} No. of Lower case Characters : {1}\".format(up,lower)"
      ],
      "execution_count": null,
      "outputs": []
    },
    {
      "cell_type": "code",
      "metadata": {
        "id": "kQadcLUU7Re9",
        "colab": {
          "base_uri": "https://localhost:8080/",
          "height": 35
        },
        "outputId": "7a955c56-40a3-43e4-b248-e1c87ca098a9"
      },
      "source": [
        "s = 'Hello Mr. Rogers, how are you this fine Tuesday?'\n",
        "up_low(s)"
      ],
      "execution_count": null,
      "outputs": [
        {
          "output_type": "execute_result",
          "data": {
            "application/vnd.google.colaboratory.intrinsic+json": {
              "type": "string"
            },
            "text/plain": [
              "'No. of Upper case characters :  4 No. of Lower case Characters : 33'"
            ]
          },
          "metadata": {},
          "execution_count": 28
        }
      ]
    },
    {
      "cell_type": "markdown",
      "metadata": {
        "id": "i_dE3r647Re-"
      },
      "source": [
        "____\n",
        "**Write a Python function that takes a list and returns a new list with unique elements of the first list.**\n",
        "\n",
        "    Sample List : [1,1,1,1,2,2,3,3,3,3,4,5]\n",
        "    Unique List : [1, 2, 3, 4, 5]"
      ]
    },
    {
      "cell_type": "code",
      "metadata": {
        "id": "tleSnOzu7Re-"
      },
      "source": [
        "def unique_list(lst):\n",
        "    return list(set(lst))"
      ],
      "execution_count": null,
      "outputs": []
    },
    {
      "cell_type": "code",
      "metadata": {
        "id": "Th-3_OeU7Re-",
        "colab": {
          "base_uri": "https://localhost:8080/"
        },
        "outputId": "b1225722-43cf-48e1-c281-3fd59abcf3aa"
      },
      "source": [
        "unique_list([1,1,1,1,2,2,3,3,3,3,4,5])"
      ],
      "execution_count": null,
      "outputs": [
        {
          "output_type": "execute_result",
          "data": {
            "text/plain": [
              "[1, 2, 3, 4, 5]"
            ]
          },
          "metadata": {},
          "execution_count": 30
        }
      ]
    },
    {
      "cell_type": "markdown",
      "metadata": {
        "id": "aJaC4uML7Re_"
      },
      "source": [
        "____\n",
        "**Write a Python function to multiply all the numbers in a list.**\n",
        "\n",
        "    Sample List : [1, 2, 3, -4]\n",
        "    Expected Output : -24"
      ]
    },
    {
      "cell_type": "code",
      "metadata": {
        "id": "mCu6xer27Re_"
      },
      "source": [
        "from functools import reduce \n",
        "def multiply(numbers):  \n",
        "    return reduce(lambda x, y : x*y, numbers )"
      ],
      "execution_count": null,
      "outputs": []
    },
    {
      "cell_type": "code",
      "metadata": {
        "id": "WT0WF3y87Re_",
        "colab": {
          "base_uri": "https://localhost:8080/"
        },
        "outputId": "a9d08fbd-f2fb-4ebb-8c6f-92dce25244b3"
      },
      "source": [
        "multiply([1,2,3,-4])"
      ],
      "execution_count": null,
      "outputs": [
        {
          "output_type": "execute_result",
          "data": {
            "text/plain": [
              "-24"
            ]
          },
          "metadata": {},
          "execution_count": 35
        }
      ]
    },
    {
      "cell_type": "markdown",
      "metadata": {
        "id": "M4fhpTNp7Re_"
      },
      "source": [
        "____\n",
        "**Write a Python function that checks whether a passed in string is palindrome or not.**\n",
        "\n",
        "Note: A palindrome is word, phrase, or sequence that reads the same backward as forward, e.g., madam or nurses run."
      ]
    },
    {
      "cell_type": "code",
      "metadata": {
        "id": "sI8WWjjt7Re_"
      },
      "source": [
        "def palindrome(s):\n",
        "    return s == s[::-1]"
      ],
      "execution_count": null,
      "outputs": []
    },
    {
      "cell_type": "code",
      "metadata": {
        "id": "xG-4urRT7Re_",
        "colab": {
          "base_uri": "https://localhost:8080/"
        },
        "outputId": "643a4a8a-8ff0-48b1-d6f6-11f5501ce47f"
      },
      "source": [
        "palindrome('helleh')"
      ],
      "execution_count": null,
      "outputs": [
        {
          "output_type": "execute_result",
          "data": {
            "text/plain": [
              "True"
            ]
          },
          "metadata": {},
          "execution_count": 37
        }
      ]
    },
    {
      "cell_type": "markdown",
      "metadata": {
        "id": "hNvFix7G7RfA"
      },
      "source": [
        "____\n",
        "#### Hard:\n",
        "\n",
        "**Write a Python function to check whether a string is pangram or not.**\n",
        "\n",
        "    Note : Pangrams are words or sentences containing every letter of the alphabet at least once.\n",
        "    For example : \"The quick brown fox jumps over the lazy dog\"\n",
        "\n",
        "Hint: Look at the string module"
      ]
    },
    {
      "cell_type": "code",
      "metadata": {
        "id": "8z7sOVnZ7RfA"
      },
      "source": [
        "import string\n",
        "\n",
        "def ispangram(str1, alphabet=string.ascii_lowercase):\n",
        "    s = set(str1.lower())\n",
        "    for i in alphabet:\n",
        "      if i not in s:\n",
        "        return False\n",
        "\n",
        "    return True\n"
      ],
      "execution_count": null,
      "outputs": []
    },
    {
      "cell_type": "code",
      "metadata": {
        "id": "HY6EuLm27RfA",
        "colab": {
          "base_uri": "https://localhost:8080/"
        },
        "outputId": "770af31a-0393-4a6c-cec5-726cd3234961"
      },
      "source": [
        "ispangram(\"The quick brown foX jumps over the lazy dog\")"
      ],
      "execution_count": null,
      "outputs": [
        {
          "output_type": "execute_result",
          "data": {
            "text/plain": [
              "True"
            ]
          },
          "metadata": {},
          "execution_count": 50
        }
      ]
    },
    {
      "cell_type": "code",
      "metadata": {
        "id": "02hDT-BS7RfA",
        "outputId": "cea62aa4-565a-4030-c30e-c63cd946ad98"
      },
      "source": [
        "string.ascii_lowercase"
      ],
      "execution_count": null,
      "outputs": [
        {
          "data": {
            "text/plain": [
              "'abcdefghijklmnopqrstuvwxyz'"
            ]
          },
          "execution_count": 17,
          "metadata": {},
          "output_type": "execute_result"
        }
      ]
    },
    {
      "cell_type": "markdown",
      "metadata": {
        "collapsed": true,
        "id": "6G-zS1Dw7RfB"
      },
      "source": [
        "#### Great Job!"
      ]
    }
  ]
}