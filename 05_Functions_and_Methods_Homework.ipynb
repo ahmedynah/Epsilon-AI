{
  "nbformat": 4,
  "nbformat_minor": 0,
  "metadata": {
    "kernelspec": {
      "display_name": "Python 3",
      "language": "python",
      "name": "python3"
    },
    "language_info": {
      "codemirror_mode": {
        "name": "ipython",
        "version": 3
      },
      "file_extension": ".py",
      "mimetype": "text/x-python",
      "name": "python",
      "nbconvert_exporter": "python",
      "pygments_lexer": "ipython3",
      "version": "3.7.6"
    },
    "colab": {
      "name": "05-Functions and Methods Homework.ipynb",
      "provenance": [],
      "include_colab_link": true
    }
  },
  "cells": [
    {
      "cell_type": "markdown",
      "metadata": {
        "id": "view-in-github",
        "colab_type": "text"
      },
      "source": [
        "<a href=\"https://colab.research.google.com/github/ahmedynah/Epsilon-AI/blob/main/05_Functions_and_Methods_Homework.ipynb\" target=\"_parent\"><img src=\"https://colab.research.google.com/assets/colab-badge.svg\" alt=\"Open In Colab\"/></a>"
      ]
    },
    {
      "cell_type": "markdown",
      "metadata": {
        "id": "Koo3LcuX9FJX"
      },
      "source": [
        "# Functions and Methods Homework \n",
        "\n",
        "Complete the following questions:\n",
        "____\n",
        "**Write a function that computes the volume of a sphere given its radius.**\n",
        "<p>The volume of a sphere is given as $$\\frac{4}{3} πr^3$$</p>"
      ]
    },
    {
      "cell_type": "code",
      "metadata": {
        "id": "dsOVru5N9FJi"
      },
      "source": [
        "def vol(rad):\n",
        "    pass"
      ],
      "execution_count": null,
      "outputs": []
    },
    {
      "cell_type": "code",
      "metadata": {
        "id": "3omc6Fya9FJn",
        "outputId": "bca28577-e4df-435e-f020-ced5719972bc"
      },
      "source": [
        "# Check\n",
        "vol(2)"
      ],
      "execution_count": null,
      "outputs": [
        {
          "data": {
            "text/plain": [
              "33.49333333333333"
            ]
          },
          "execution_count": 2,
          "metadata": {},
          "output_type": "execute_result"
        }
      ]
    },
    {
      "cell_type": "markdown",
      "metadata": {
        "id": "6I8UAHlf9FJs"
      },
      "source": [
        "___\n",
        "**Write a function that checks whether a number is in a given range (inclusive of high and low)**"
      ]
    },
    {
      "cell_type": "code",
      "metadata": {
        "id": "pHtbZwsk9FJv"
      },
      "source": [
        "def ran_check(num,low,high):\n",
        "    pass"
      ],
      "execution_count": null,
      "outputs": []
    },
    {
      "cell_type": "code",
      "metadata": {
        "id": "13J4o1Y29FJx",
        "outputId": "cbd2d897-3586-44c4-a6e8-39167eef61ab"
      },
      "source": [
        "# Check\n",
        "ran_check(5,2,7)"
      ],
      "execution_count": null,
      "outputs": [
        {
          "name": "stdout",
          "output_type": "stream",
          "text": [
            "5 is in the range between 2 and 7\n"
          ]
        }
      ]
    },
    {
      "cell_type": "markdown",
      "metadata": {
        "id": "TKdk81Fb9FJ1"
      },
      "source": [
        "If you only wanted to return a boolean:"
      ]
    },
    {
      "cell_type": "code",
      "metadata": {
        "id": "_9wBL5hG9FJ4"
      },
      "source": [
        "def ran_bool(num,low,high):\n",
        "    pass"
      ],
      "execution_count": null,
      "outputs": []
    },
    {
      "cell_type": "code",
      "metadata": {
        "id": "wGhbFXX09FJ7",
        "outputId": "d98a968d-7629-44c2-98e2-233bb634fa1e"
      },
      "source": [
        "ran_bool(3,1,10)"
      ],
      "execution_count": null,
      "outputs": [
        {
          "data": {
            "text/plain": [
              "True"
            ]
          },
          "execution_count": 6,
          "metadata": {},
          "output_type": "execute_result"
        }
      ]
    },
    {
      "cell_type": "markdown",
      "metadata": {
        "id": "V0ot4Rs29FKB"
      },
      "source": [
        "____\n",
        "**Write a Python function that accepts a string and calculates the number of upper case letters and lower case letters.**\n",
        "\n",
        "    Sample String : 'Hello Mr. Rogers, how are you this fine Tuesday?'\n",
        "    Expected Output : \n",
        "    No. of Upper case characters : 4\n",
        "    No. of Lower case Characters : 33\n",
        "\n",
        "HINT: Two string methods that might prove useful: **.isupper()** and **.islower()**\n",
        "\n",
        "If you feel ambitious, explore the Collections module to solve this problem!"
      ]
    },
    {
      "cell_type": "code",
      "metadata": {
        "id": "I93NOa739FKD"
      },
      "source": [
        "def up_low(s):\n",
        "    pass"
      ],
      "execution_count": null,
      "outputs": []
    },
    {
      "cell_type": "code",
      "metadata": {
        "id": "7D_M9KVz9FKF",
        "outputId": "db3c7496-c756-4337-c485-9126c6918991"
      },
      "source": [
        "s = 'Hello Mr. Rogers, how are you this fine Tuesday?'\n",
        "up_low(s)"
      ],
      "execution_count": null,
      "outputs": [
        {
          "name": "stdout",
          "output_type": "stream",
          "text": [
            "Original String :  Hello Mr. Rogers, how are you this fine Tuesday?\n",
            "No. of Upper case characters :  4\n",
            "No. of Lower case Characters :  33\n"
          ]
        }
      ]
    },
    {
      "cell_type": "markdown",
      "metadata": {
        "id": "0KMCXeDx9FKH"
      },
      "source": [
        "____\n",
        "**Write a Python function that takes a list and returns a new list with unique elements of the first list.**\n",
        "\n",
        "    Sample List : [1,1,1,1,2,2,3,3,3,3,4,5]\n",
        "    Unique List : [1, 2, 3, 4, 5]"
      ]
    },
    {
      "cell_type": "code",
      "metadata": {
        "id": "NMBtwCmz9FKJ"
      },
      "source": [
        "def unique_list(lst):\n",
        "    pass"
      ],
      "execution_count": null,
      "outputs": []
    },
    {
      "cell_type": "code",
      "metadata": {
        "id": "2X78dYKR9FKK",
        "outputId": "54307eea-c37b-4abf-d911-390933889704"
      },
      "source": [
        "unique_list([1,1,1,1,2,2,3,3,3,3,4,5])"
      ],
      "execution_count": null,
      "outputs": [
        {
          "data": {
            "text/plain": [
              "[1, 2, 3, 4, 5]"
            ]
          },
          "execution_count": 10,
          "metadata": {},
          "output_type": "execute_result"
        }
      ]
    },
    {
      "cell_type": "markdown",
      "metadata": {
        "id": "ZcxS61qB9FKM"
      },
      "source": [
        "____\n",
        "**Write a Python function to multiply all the numbers in a list.**\n",
        "\n",
        "    Sample List : [1, 2, 3, -4]\n",
        "    Expected Output : -24"
      ]
    },
    {
      "cell_type": "code",
      "metadata": {
        "id": "2T4IkP419FKN"
      },
      "source": [
        "def multiply(numbers):  \n",
        "    pass"
      ],
      "execution_count": null,
      "outputs": []
    },
    {
      "cell_type": "code",
      "metadata": {
        "id": "REfpPQ_i9FKN",
        "outputId": "f1f599ef-a498-4e0f-9f9e-2ad80237a5d4"
      },
      "source": [
        "multiply([1,2,3,-4])"
      ],
      "execution_count": null,
      "outputs": [
        {
          "data": {
            "text/plain": [
              "-24"
            ]
          },
          "execution_count": 12,
          "metadata": {},
          "output_type": "execute_result"
        }
      ]
    },
    {
      "cell_type": "markdown",
      "metadata": {
        "id": "jaeGYqrD9FKO"
      },
      "source": [
        "____\n",
        "**Write a Python function that checks whether a passed in string is palindrome or not.**\n",
        "\n",
        "Note: A palindrome is word, phrase, or sequence that reads the same backward as forward, e.g., madam or nurses run."
      ]
    },
    {
      "cell_type": "code",
      "metadata": {
        "id": "jVh4l1ZU9FKQ"
      },
      "source": [
        "def palindrome(s):\n",
        "    pass"
      ],
      "execution_count": null,
      "outputs": []
    },
    {
      "cell_type": "code",
      "metadata": {
        "id": "HsK7b1xW9FKR",
        "outputId": "0c8b66cf-b19c-476c-de29-0c6f3df18280"
      },
      "source": [
        "palindrome('helleh')"
      ],
      "execution_count": null,
      "outputs": [
        {
          "data": {
            "text/plain": [
              "True"
            ]
          },
          "execution_count": 14,
          "metadata": {},
          "output_type": "execute_result"
        }
      ]
    },
    {
      "cell_type": "markdown",
      "metadata": {
        "id": "zmN8RU9I9FKT"
      },
      "source": [
        "____\n",
        "#### Hard:\n",
        "\n",
        "**Write a Python function to check whether a string is pangram or not.**\n",
        "\n",
        "    Note : Pangrams are words or sentences containing every letter of the alphabet at least once.\n",
        "    For example : \"The quick brown fox jumps over the lazy dog\"\n",
        "\n",
        "Hint: Look at the string module"
      ]
    },
    {
      "cell_type": "code",
      "metadata": {
        "id": "T7xOObQ19FKU"
      },
      "source": [
        "import string\n",
        "\n",
        "def ispangram(str1, alphabet=string.ascii_lowercase):\n",
        "    pass"
      ],
      "execution_count": null,
      "outputs": []
    },
    {
      "cell_type": "code",
      "metadata": {
        "id": "HJnkkUW99FKV",
        "outputId": "191ac6dc-1d9d-4c9b-82b2-115037597537"
      },
      "source": [
        "ispangram(\"The quick brown fox jumps over the lazy dog\")"
      ],
      "execution_count": null,
      "outputs": [
        {
          "data": {
            "text/plain": [
              "True"
            ]
          },
          "execution_count": 16,
          "metadata": {},
          "output_type": "execute_result"
        }
      ]
    },
    {
      "cell_type": "code",
      "metadata": {
        "id": "h_bSu6259FKW",
        "outputId": "91f9652c-4226-477d-a921-1b34fed67d85"
      },
      "source": [
        "string.ascii_lowercase"
      ],
      "execution_count": null,
      "outputs": [
        {
          "data": {
            "text/plain": [
              "'abcdefghijklmnopqrstuvwxyz'"
            ]
          },
          "execution_count": 17,
          "metadata": {},
          "output_type": "execute_result"
        }
      ]
    },
    {
      "cell_type": "markdown",
      "metadata": {
        "collapsed": true,
        "id": "ZJyENujN9FKY"
      },
      "source": [
        "#### Great Job!"
      ]
    }
  ]
}