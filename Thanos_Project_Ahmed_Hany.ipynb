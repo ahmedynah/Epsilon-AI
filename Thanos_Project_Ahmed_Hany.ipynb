{
  "nbformat": 4,
  "nbformat_minor": 0,
  "metadata": {
    "colab": {
      "name": "Thanos_Project_Ahmed_Hany.ipynb",
      "provenance": [],
      "collapsed_sections": [],
      "mount_file_id": "1xbVeiWKL2L3vGCM5lPz88s7DimW3q3Wl",
      "authorship_tag": "ABX9TyN68KC56X79WaqfVujBZOVh",
      "include_colab_link": true
    },
    "kernelspec": {
      "name": "python3",
      "display_name": "Python 3"
    },
    "language_info": {
      "name": "python"
    }
  },
  "cells": [
    {
      "cell_type": "markdown",
      "metadata": {
        "id": "view-in-github",
        "colab_type": "text"
      },
      "source": [
        "<a href=\"https://colab.research.google.com/github/ahmedynah/Epsilon-AI/blob/main/Thanos_Project_Ahmed_Hany.ipynb\" target=\"_parent\"><img src=\"https://colab.research.google.com/assets/colab-badge.svg\" alt=\"Open In Colab\"/></a>"
      ]
    },
    {
      "cell_type": "code",
      "metadata": {
        "id": "_RkSzmn0i5DZ"
      },
      "source": [
        "from os import *\n",
        "import  shutil\n",
        "from random import *\n",
        "from math import ceil"
      ],
      "execution_count": 60,
      "outputs": []
    },
    {
      "cell_type": "code",
      "metadata": {
        "colab": {
          "base_uri": "https://localhost:8080/"
        },
        "id": "KzhJF1H7j6Wv",
        "outputId": "91739563-d6a3-4d01-db96-29b09343aaa9"
      },
      "source": [
        "listdir('Universe')"
      ],
      "execution_count": 61,
      "outputs": [
        {
          "output_type": "execute_result",
          "data": {
            "text/plain": [
              "['cover028.png',\n",
              " 'cover043.png',\n",
              " 'cover025.png',\n",
              " 'cover022.png',\n",
              " 'cover012.png',\n",
              " 'cover005.png',\n",
              " 'cover019.png',\n",
              " 'cover013.png',\n",
              " 'cover040.png',\n",
              " 'cover001.png',\n",
              " 'cover030.png',\n",
              " 'cover024.png',\n",
              " 'cover015.png',\n",
              " 'cover050.png',\n",
              " 'cover036.png',\n",
              " 'cover003.png',\n",
              " 'cover026.png',\n",
              " 'cover034.png',\n",
              " 'cover006.png',\n",
              " 'cover018.png',\n",
              " 'cover035.png',\n",
              " 'cover014.png',\n",
              " 'cover023.png',\n",
              " 'cover011.png',\n",
              " 'cover042.png']"
            ]
          },
          "metadata": {},
          "execution_count": 61
        }
      ]
    },
    {
      "cell_type": "code",
      "metadata": {
        "colab": {
          "base_uri": "https://localhost:8080/"
        },
        "id": "JPPeYPZ3j_f3",
        "outputId": "45331311-2080-422d-e998-30ec9b40c3b7"
      },
      "source": [
        "try:\n",
        "  mkdir(\"packup\")\n",
        "except FileExistsError:\n",
        "  print(\"File already exists\")"
      ],
      "execution_count": 63,
      "outputs": [
        {
          "output_type": "stream",
          "text": [
            "File already exists\n"
          ],
          "name": "stdout"
        }
      ]
    },
    {
      "cell_type": "code",
      "metadata": {
        "colab": {
          "base_uri": "https://localhost:8080/"
        },
        "id": "q_nnnCQ9k4qS",
        "outputId": "71b9007b-229f-4bc2-c0ee-648254e4692b"
      },
      "source": [
        "listdir()"
      ],
      "execution_count": 64,
      "outputs": [
        {
          "output_type": "execute_result",
          "data": {
            "text/plain": [
              "['.config', 'packup', 'Universe', '.ipynb_checkpoints', 'drive', 'sample_data']"
            ]
          },
          "metadata": {},
          "execution_count": 64
        }
      ]
    },
    {
      "cell_type": "markdown",
      "metadata": {
        "id": "_18zJPCIoW3X"
      },
      "source": [
        "#Filling the packup folder"
      ]
    },
    {
      "cell_type": "code",
      "metadata": {
        "id": "c-ry56HLk8Ro"
      },
      "source": [
        "src = 'Universe'\n",
        "trg = 'packup'\n",
        "files = listdir(src)\n",
        "for fname in files:\n",
        "    shutil.copy2( path.join( src, fname ), trg)\n"
      ],
      "execution_count": 65,
      "outputs": []
    },
    {
      "cell_type": "code",
      "metadata": {
        "colab": {
          "base_uri": "https://localhost:8080/"
        },
        "id": "QJpEZOa5luKq",
        "outputId": "7bcce384-7ab0-4446-f811-06fb00475a45"
      },
      "source": [
        "listdir('packup')"
      ],
      "execution_count": 66,
      "outputs": [
        {
          "output_type": "execute_result",
          "data": {
            "text/plain": [
              "['cover028.png',\n",
              " 'cover002.png',\n",
              " 'cover043.png',\n",
              " 'cover041.png',\n",
              " 'cover021.png',\n",
              " 'cover025.png',\n",
              " 'cover022.png',\n",
              " 'cover048.png',\n",
              " 'cover049.png',\n",
              " 'cover012.png',\n",
              " 'cover005.png',\n",
              " 'cover045.png',\n",
              " 'cover019.png',\n",
              " 'cover017.png',\n",
              " 'cover009.png',\n",
              " 'cover037.png',\n",
              " 'cover013.png',\n",
              " 'cover040.png',\n",
              " 'cover008.png',\n",
              " 'cover032.png',\n",
              " 'cover007.png',\n",
              " 'cover001.png',\n",
              " 'cover016.png',\n",
              " 'cover030.png',\n",
              " 'cover038.png',\n",
              " 'cover024.png',\n",
              " 'cover033.png',\n",
              " 'cover015.png',\n",
              " 'cover027.png',\n",
              " 'cover047.png',\n",
              " 'cover050.png',\n",
              " 'cover036.png',\n",
              " 'cover029.png',\n",
              " 'cover039.png',\n",
              " 'cover046.png',\n",
              " 'cover003.png',\n",
              " 'cover026.png',\n",
              " 'cover034.png',\n",
              " 'cover006.png',\n",
              " 'cover018.png',\n",
              " 'cover035.png',\n",
              " 'cover014.png',\n",
              " 'cover023.png',\n",
              " 'cover044.png',\n",
              " 'cover010.png',\n",
              " 'cover004.png',\n",
              " 'cover011.png',\n",
              " 'cover031.png',\n",
              " 'cover042.png',\n",
              " 'cover020.png']"
            ]
          },
          "metadata": {},
          "execution_count": 66
        }
      ]
    },
    {
      "cell_type": "markdown",
      "metadata": {
        "id": "5DSTe3oEqRq_"
      },
      "source": [
        "#Kill half the Universe"
      ]
    },
    {
      "cell_type": "code",
      "metadata": {
        "id": "mpasnDnGm_6_"
      },
      "source": [
        "half_pop = sample(listdir('Universe'), ceil( len( listdir('Universe') )/2   ) )\n",
        "for f in half_pop:\n",
        "  remove(path.join('Universe',f))\n"
      ],
      "execution_count": 67,
      "outputs": []
    },
    {
      "cell_type": "code",
      "metadata": {
        "colab": {
          "base_uri": "https://localhost:8080/"
        },
        "id": "rJuNqkfbqbgR",
        "outputId": "7e729b9c-f820-41c1-a765-63599d2e8b8b"
      },
      "source": [
        "listdir('Universe')"
      ],
      "execution_count": 69,
      "outputs": [
        {
          "output_type": "execute_result",
          "data": {
            "text/plain": [
              "['cover043.png',\n",
              " 'cover025.png',\n",
              " 'cover012.png',\n",
              " 'cover013.png',\n",
              " 'cover030.png',\n",
              " 'cover036.png',\n",
              " 'cover003.png',\n",
              " 'cover026.png',\n",
              " 'cover006.png',\n",
              " 'cover014.png',\n",
              " 'cover023.png',\n",
              " 'cover011.png']"
            ]
          },
          "metadata": {},
          "execution_count": 69
        }
      ]
    },
    {
      "cell_type": "markdown",
      "metadata": {
        "id": "OitAoVDYqO23"
      },
      "source": [
        "#Refill the universe"
      ]
    },
    {
      "cell_type": "code",
      "metadata": {
        "id": "IvJuXFlsqIAL"
      },
      "source": [
        "trg = 'Universe'\n",
        "src = 'packup'\n",
        "files = listdir(src)\n",
        "for fname in files:\n",
        "    shutil.copy2( path.join( src, fname ), trg)"
      ],
      "execution_count": 70,
      "outputs": []
    }
  ]
}